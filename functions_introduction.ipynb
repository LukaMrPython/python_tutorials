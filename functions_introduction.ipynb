{
 "cells": [
  {
   "cell_type": "markdown",
   "metadata": {},
   "source": [
    "A function is a device that groups a set of statements so they can be run\n",
    "more than once in a program—a packaged procedure invoked by name. Functions also\n",
    "can compute a result value and let us specify parameters that serve as function inputs\n",
    "and may differ each time the code is run."
   ]
  },
  {
   "cell_type": "markdown",
   "metadata": {},
   "source": [
    "Functions are also the most basic program structure Python provides for maximizing\n",
    "code reuse, and lead us to the larger notions of program design. As we’ll see, functions\n",
    "let us split complex systems into manageable parts. By implementing each part as a\n",
    "function, we make it both reusable and easier to code."
   ]
  },
  {
   "cell_type": "markdown",
   "metadata": {},
   "source": [
    "Function-related statements and expressions:"
   ]
  },
  {
   "cell_type": "code",
   "execution_count": 1,
   "metadata": {
    "collapsed": true
   },
   "outputs": [],
   "source": [
    "# Statement or expression: def\n",
    "\n",
    "def printer(name):\n",
    "    print('Hello ' + name)"
   ]
  },
  {
   "cell_type": "code",
   "execution_count": 2,
   "metadata": {
    "collapsed": false
   },
   "outputs": [
    {
     "name": "stdout",
     "output_type": "stream",
     "text": [
      "Hello Stranger\n"
     ]
    }
   ],
   "source": [
    "# Statement or expression: Call expression\n",
    "\n",
    "printer('Stranger')"
   ]
  },
  {
   "cell_type": "code",
   "execution_count": 3,
   "metadata": {
    "collapsed": true
   },
   "outputs": [],
   "source": [
    "# Statement or expression: return\n",
    "\n",
    "def adder(a, b=1, *c):\n",
    "    return a + b + c[0]"
   ]
  },
  {
   "cell_type": "code",
   "execution_count": 4,
   "metadata": {
    "collapsed": false
   },
   "outputs": [
    {
     "data": {
      "text/plain": [
       "6"
      ]
     },
     "execution_count": 4,
     "metadata": {},
     "output_type": "execute_result"
    }
   ],
   "source": [
    "adder(1,2,3,4)"
   ]
  },
  {
   "cell_type": "code",
   "execution_count": 12,
   "metadata": {
    "collapsed": true
   },
   "outputs": [],
   "source": [
    "# Statement or expression: global\n",
    "\n",
    "x = 'old'\n",
    "\n",
    "def changer():\n",
    "    global x; x = 'new'\n",
    "    return print(x)"
   ]
  },
  {
   "cell_type": "code",
   "execution_count": 21,
   "metadata": {
    "collapsed": false
   },
   "outputs": [
    {
     "name": "stdout",
     "output_type": "stream",
     "text": [
      "new\n"
     ]
    }
   ],
   "source": [
    "changer()"
   ]
  },
  {
   "cell_type": "code",
   "execution_count": 22,
   "metadata": {
    "collapsed": true
   },
   "outputs": [],
   "source": [
    "# Statement or expression: nonlocal\n",
    "\n",
    "def outer():\n",
    "    x = 'old'\n",
    "    def changer():\n",
    "        nonlocal x; x = 'new'"
   ]
  },
  {
   "cell_type": "code",
   "execution_count": 25,
   "metadata": {
    "collapsed": false
   },
   "outputs": [],
   "source": [
    "# Statement or expression: yield\n",
    "\n",
    "def squares(x):\n",
    "    for i in range(x): yield i ** 2"
   ]
  },
  {
   "cell_type": "code",
   "execution_count": 30,
   "metadata": {
    "collapsed": false
   },
   "outputs": [],
   "source": [
    "a = squares(5)"
   ]
  },
  {
   "cell_type": "code",
   "execution_count": 31,
   "metadata": {
    "collapsed": false
   },
   "outputs": [
    {
     "name": "stdout",
     "output_type": "stream",
     "text": [
      "0\n",
      "1\n",
      "4\n",
      "9\n",
      "16\n"
     ]
    }
   ],
   "source": [
    "for i in a: print(i)"
   ]
  },
  {
   "cell_type": "markdown",
   "metadata": {},
   "source": [
    "Why Use Functions?\n",
    "\n",
    "> Maximizing code reuse and minimizing redundancy\n",
    "\n",
    "> Procedural decomposition"
   ]
  },
  {
   "cell_type": "markdown",
   "metadata": {},
   "source": [
    "Coding Functions:\n",
    "    \n",
    "• def is executable code. Python functions are written with a new statement, the\n",
    "def. Unlike functions in compiled languages such as C, def is an executable statement—\n",
    "your function does not exist until Python reaches and runs the def.\n",
    "\n",
    "• def creates an object and assigns it to a name. When Python reaches and runs\n",
    "a def statement, it generates a new function object and assigns it to the function’s\n",
    "name. As with all assignments, the function name becomes a reference to the function\n",
    "object.\n",
    "\n",
    "• lambda creates an object but returns it as a result. Functions may also be created\n",
    "with the lambda expression, a feature that allows us to in-line function definitions\n",
    "in places where a def statement won’t work syntactically.\n",
    "\n",
    "• return sends a result object back to the caller. When a function is called, the\n",
    "caller stops until the function finishes its work and returns control to the caller.\n",
    "Functions that compute a value send it back to the caller with a return statement;\n",
    "the returned value becomes the result of the function call. A return without a value\n",
    "simply returns to the caller (and sends back None, the default result).\n",
    "\n",
    "• yield sends a result object back to the caller, but remembers where it left\n",
    "off. Functions known as generators may also use the yield statement to send back \n",
    "a value and suspend their state such that they may be resumed later, to produce a\n",
    "series of results over time.\n",
    "\n",
    "• global declares module-level variables that are to be assigned. By default, all\n",
    "names assigned in a function are local to that function and exist only while the\n",
    "function runs. To assign a name in the enclosing module, functions need to list it\n",
    "in a global statement.\n",
    "\n",
    "• nonlocal declares enclosing function variables that are to be assigned. Similarly,\n",
    "the nonlocal statement added in Python 3.X allows a function to assign a\n",
    "name that exists in the scope of a syntactically enclosing def statement. This allows\n",
    "enclosing functions to serve as a place to retain state—information remembered\n",
    "between function calls—without using shared global names.\n",
    "\n",
    "• Arguments are passed by assignment (object reference). Changing an argument name within\n",
    "a function does not also change the corresponding name in the caller, but changing\n",
    "passed-in mutable objects in place can change objects shared by the caller, and\n",
    "serve as a function result.\n",
    "\n",
    "• Arguments are passed by position, unless you say otherwise. Values you pass\n",
    "in a function call match argument names in a function’s definition from left to right\n",
    "by default. For flexibility, function calls can also pass arguments by name with\n",
    "name=value keyword syntax, and unpack arbitrarily many arguments to send with\n",
    "*pargs and **kargs starred-argument notation. Function definitions use the same\n",
    "two forms to specify argument defaults, and collect arbitrarily many arguments\n",
    "received.\n",
    "\n",
    "• Arguments, return values, and variables are not declared. In fact, nothing about a\n",
    "function needs to be declared ahead of time: you can pass in arguments of any type,\n",
    "return any kind of object, and so on. As one consequence, a single function can\n",
    "often be applied to a variety of object types—any objects that sport a compatible\n",
    "interface (methods and expressions) will do, regardless of their specific types."
   ]
  },
  {
   "cell_type": "markdown",
   "metadata": {},
   "source": [
    "def Executes at Runtime:\n",
    "\n",
    "The Python def is a true executable statement: when it runs, it creates a new function\n",
    "object and assigns it to a name. (Remember, all we have in Python is runtime; there is\n",
    "no such thing as a separate compile time.) Because it’s a statement, a def can appear\n",
    "anywhere a statement can—even nested in other statements. For instance, although\n",
    "defs normally are run when the module enclosing them is imported, it’s also completely\n",
    "legal to nest a function def inside an if statement to select between alternative definitions.\n",
    "\n"
   ]
  },
  {
   "cell_type": "code",
   "execution_count": 37,
   "metadata": {
    "collapsed": false
   },
   "outputs": [],
   "source": [
    "#example\n",
    "\n",
    "test = 1\n",
    "\n",
    "if test:\n",
    "    def func():\n",
    "        return test"
   ]
  },
  {
   "cell_type": "markdown",
   "metadata": {},
   "source": [
    "Because function definition happens at runtime, there’s nothing special about the\n",
    "function name. What’s important is the object to which it refers:\n",
    "    \n",
    "    othername = func          # Assign function object\n",
    "\n",
    "    othername()               # Call func again"
   ]
  },
  {
   "cell_type": "markdown",
   "metadata": {},
   "source": [
    "Like everything else in Python, functions are just objects; they are recorded explicitly\n",
    "in memory at program execution time. In fact, besides calls, functions allow arbitrary\n",
    "attributes to be attached to record information for later use:\n",
    "\n",
    "    def func(): ...     # Create function object\n",
    "\n",
    "    func()              # Call object\n",
    "    \n",
    "    func.attr = value   # Attach attributes"
   ]
  },
  {
   "cell_type": "code",
   "execution_count": 40,
   "metadata": {
    "collapsed": false
   },
   "outputs": [],
   "source": [
    "def times(x, y): \n",
    "    return x * y"
   ]
  },
  {
   "cell_type": "code",
   "execution_count": 42,
   "metadata": {
    "collapsed": false
   },
   "outputs": [],
   "source": [
    "prod = times #Assign function object"
   ]
  },
  {
   "cell_type": "code",
   "execution_count": 43,
   "metadata": {
    "collapsed": false
   },
   "outputs": [
    {
     "data": {
      "text/plain": [
       "6"
      ]
     },
     "execution_count": 43,
     "metadata": {},
     "output_type": "execute_result"
    }
   ],
   "source": [
    "prod(2, 3)"
   ]
  },
  {
   "cell_type": "code",
   "execution_count": 47,
   "metadata": {
    "collapsed": false
   },
   "outputs": [],
   "source": [
    "res = times(2, 3) # Save the result object"
   ]
  },
  {
   "cell_type": "code",
   "execution_count": 48,
   "metadata": {
    "collapsed": false
   },
   "outputs": [
    {
     "data": {
      "text/plain": [
       "6"
      ]
     },
     "execution_count": 48,
     "metadata": {},
     "output_type": "execute_result"
    }
   ],
   "source": [
    "res"
   ]
  },
  {
   "cell_type": "markdown",
   "metadata": {},
   "source": [
    "Polymorphism in Python:\n",
    "\n",
    "As we just saw, the very meaning of the expression x * y in our simple times function\n",
    "depends completely upon the kinds of objects that x and y are—thus, the same function\n",
    "can perform multiplication in one instance and repetition in another. Python leaves it\n",
    "up to the objects to do something reasonable for the syntax. Really, * is just a dispatch\n",
    "mechanism that routes control to the objects being processed. This sort of type-dependent behavior is known as polymorphism.\n",
    "\n",
    "Because it’s a dynamically typed language, polymorphism\n",
    "runs rampant in Python. In fact, every operation is a polymorphic operation in Python:\n",
    "printing, indexing, the * operator, and much more."
   ]
  },
  {
   "cell_type": "code",
   "execution_count": 53,
   "metadata": {
    "collapsed": true
   },
   "outputs": [],
   "source": [
    "#wrapping the code in a function makes it a general intersection utility:\n",
    "\n",
    "def intersect(seq1, seq2):\n",
    "    res = []\n",
    "    for x in seq1:\n",
    "        if x in seq2:     #common item\n",
    "            res.append(x) #add to end\n",
    "    return res"
   ]
  },
  {
   "cell_type": "code",
   "execution_count": 54,
   "metadata": {
    "collapsed": true
   },
   "outputs": [],
   "source": [
    "input1 = [1,2,3,4]"
   ]
  },
  {
   "cell_type": "code",
   "execution_count": 55,
   "metadata": {
    "collapsed": true
   },
   "outputs": [],
   "source": [
    "input2 = [3,4,5,6]"
   ]
  },
  {
   "cell_type": "code",
   "execution_count": 56,
   "metadata": {
    "collapsed": false
   },
   "outputs": [
    {
     "data": {
      "text/plain": [
       "[3, 4]"
      ]
     },
     "execution_count": 56,
     "metadata": {},
     "output_type": "execute_result"
    }
   ],
   "source": [
    "intersect(input1, input2)"
   ]
  },
  {
   "cell_type": "code",
   "execution_count": 57,
   "metadata": {
    "collapsed": false
   },
   "outputs": [
    {
     "data": {
      "text/plain": [
       "[3, 4]"
      ]
     },
     "execution_count": 57,
     "metadata": {},
     "output_type": "execute_result"
    }
   ],
   "source": [
    "#alternative way using list comprehension\n",
    "\n",
    "[x for x in input1 if x in input2]"
   ]
  },
  {
   "cell_type": "markdown",
   "metadata": {},
   "source": [
    "Polymorphism Revisited\n",
    "\n",
    "Like all good functions in Python, intersect is polymorphic. That is, it works on arbitrary\n",
    "types, as long as they support the expected object interface:"
   ]
  },
  {
   "cell_type": "code",
   "execution_count": 58,
   "metadata": {
    "collapsed": true
   },
   "outputs": [],
   "source": [
    "x = intersect([1, 2, 3], (1, 4)) # Mixed types"
   ]
  },
  {
   "cell_type": "code",
   "execution_count": 59,
   "metadata": {
    "collapsed": false
   },
   "outputs": [
    {
     "data": {
      "text/plain": [
       "[1]"
      ]
     },
     "execution_count": 59,
     "metadata": {},
     "output_type": "execute_result"
    }
   ],
   "source": [
    "x"
   ]
  },
  {
   "cell_type": "markdown",
   "metadata": {},
   "source": [
    "Python Scope Basics:\n",
    "\n",
    "When you use a name in a program, Python creates,\n",
    "changes, or looks up the name in what is known as a namespace—a place where names\n",
    "live. When we talk about the search for a name’s value in relation to code, the term\n",
    "scope refers to a namespace: that is, the location of a name’s assignment in your source\n",
    "code determines the scope of the name’s visibility to your code."
   ]
  },
  {
   "cell_type": "markdown",
   "metadata": {},
   "source": [
    "• Names assigned inside a def can only be seen by the code within that def. You\n",
    "cannot even refer to such names from outside the function.\n",
    "\n",
    "• Names assigned inside a def do not clash with variables outside the def, even if the\n",
    "same names are used elsewhere. A name X assigned outside a given def (i.e., in a\n",
    "different def or at the top level of a module file) is a completely different variable\n",
    "from a name X assigned inside that def."
   ]
  },
  {
   "cell_type": "markdown",
   "metadata": {},
   "source": [
    "• If a variable is assigned inside a def, it is local to that function.\n",
    "\n",
    "• If a variable is assigned in an enclosing def, it is nonlocal to nested functions.\n",
    "\n",
    "• If a variable is assigned outside all defs, it is global to the entire file."
   ]
  },
  {
   "cell_type": "code",
   "execution_count": 60,
   "metadata": {
    "collapsed": true
   },
   "outputs": [],
   "source": [
    "x = 99 #global(module)\n",
    "\n",
    "def func():\n",
    "    x = 44 #local(function)"
   ]
  },
  {
   "cell_type": "markdown",
   "metadata": {},
   "source": [
    "• The enclosing module is a global scope.\n",
    "\n",
    "• The global scope spans a single file only.\n",
    "\n",
    "• Assigned names are local unless declared global or nonlocal.\n",
    "\n",
    "• All other names are enclosing function locals, globals, or built-ins.\n",
    "\n",
    "• Each call to a function creates a new local scope."
   ]
  },
  {
   "cell_type": "markdown",
   "metadata": {},
   "source": [
    "With a def statement:\n",
    "\n",
    "• Name assignments create or change local names by default.\n",
    "\n",
    "• Name references search at most four scopes: local, then enclosing functions (if any),\n",
    "then global, then built-in.\n",
    "\n",
    "• Names declared in global and nonlocal statements map assigned names to enclosing\n",
    "module and function scopes, respectively."
   ]
  },
  {
   "cell_type": "markdown",
   "metadata": {},
   "source": [
    "Python’s name-resolution scheme is sometimes called the LEGB rule, after the scope\n",
    "names:\n",
    "\n",
    "• When you use an unqualified name inside a function, Python searches up to four\n",
    "scopes—the local (L) scope, then the local scopes of any enclosing (E) defs and\n",
    "lambdas, then the global (G) scope, and then the built-in (B) scope—and stops at\n",
    "the first place the name is found. If the name is not found during this search, Python\n",
    "reports an error.\n",
    "\n",
    "• When you assign a name in a function (instead of just referring to it in an expression),\n",
    "Python always creates or changes the name in the local scope, unless it’s\n",
    "declared to be global or nonlocal in that function.\n",
    "\n",
    "• When you assign a name outside any function (i.e., at the top level of a module\n",
    "file, or at the interactive prompt), the local scope is the same as the global scope—\n",
    "the module’s namespace."
   ]
  },
  {
   "cell_type": "code",
   "execution_count": 72,
   "metadata": {
    "collapsed": false
   },
   "outputs": [],
   "source": [
    "#global scope\n",
    "x = 20 #global\n",
    "\n",
    "def func(y):\n",
    "    #local scope\n",
    "    z = x + y # z,y are local, x is global\n",
    "    return z"
   ]
  },
  {
   "cell_type": "code",
   "execution_count": 73,
   "metadata": {
    "collapsed": false
   },
   "outputs": [
    {
     "data": {
      "text/plain": [
       "30"
      ]
     },
     "execution_count": 73,
     "metadata": {},
     "output_type": "execute_result"
    }
   ],
   "source": [
    "func(10)"
   ]
  },
  {
   "cell_type": "code",
   "execution_count": 74,
   "metadata": {
    "collapsed": true
   },
   "outputs": [],
   "source": [
    "# The Built-in Scope\n",
    "\n",
    "import builtins"
   ]
  },
  {
   "cell_type": "code",
   "execution_count": 75,
   "metadata": {
    "collapsed": false
   },
   "outputs": [
    {
     "data": {
      "text/plain": [
       "['ArithmeticError',\n",
       " 'AssertionError',\n",
       " 'AttributeError',\n",
       " 'BaseException',\n",
       " 'BlockingIOError',\n",
       " 'BrokenPipeError',\n",
       " 'BufferError',\n",
       " 'BytesWarning',\n",
       " 'ChildProcessError',\n",
       " 'ConnectionAbortedError',\n",
       " 'ConnectionError',\n",
       " 'ConnectionRefusedError',\n",
       " 'ConnectionResetError',\n",
       " 'DeprecationWarning',\n",
       " 'EOFError',\n",
       " 'Ellipsis',\n",
       " 'EnvironmentError',\n",
       " 'Exception',\n",
       " 'False',\n",
       " 'FileExistsError',\n",
       " 'FileNotFoundError',\n",
       " 'FloatingPointError',\n",
       " 'FutureWarning',\n",
       " 'GeneratorExit',\n",
       " 'IOError',\n",
       " 'ImportError',\n",
       " 'ImportWarning',\n",
       " 'IndentationError',\n",
       " 'IndexError',\n",
       " 'InterruptedError',\n",
       " 'IsADirectoryError',\n",
       " 'KeyError',\n",
       " 'KeyboardInterrupt',\n",
       " 'LookupError',\n",
       " 'MemoryError',\n",
       " 'ModuleNotFoundError',\n",
       " 'NameError',\n",
       " 'None',\n",
       " 'NotADirectoryError',\n",
       " 'NotImplemented',\n",
       " 'NotImplementedError',\n",
       " 'OSError',\n",
       " 'OverflowError',\n",
       " 'PendingDeprecationWarning',\n",
       " 'PermissionError',\n",
       " 'ProcessLookupError',\n",
       " 'RecursionError',\n",
       " 'ReferenceError',\n",
       " 'ResourceWarning',\n",
       " 'RuntimeError',\n",
       " 'RuntimeWarning',\n",
       " 'StopAsyncIteration',\n",
       " 'StopIteration',\n",
       " 'SyntaxError',\n",
       " 'SyntaxWarning',\n",
       " 'SystemError',\n",
       " 'SystemExit',\n",
       " 'TabError',\n",
       " 'TimeoutError',\n",
       " 'True',\n",
       " 'TypeError',\n",
       " 'UnboundLocalError',\n",
       " 'UnicodeDecodeError',\n",
       " 'UnicodeEncodeError',\n",
       " 'UnicodeError',\n",
       " 'UnicodeTranslateError',\n",
       " 'UnicodeWarning',\n",
       " 'UserWarning',\n",
       " 'ValueError',\n",
       " 'Warning',\n",
       " 'WindowsError',\n",
       " 'ZeroDivisionError',\n",
       " '__IPYTHON__',\n",
       " '__build_class__',\n",
       " '__debug__',\n",
       " '__doc__',\n",
       " '__import__',\n",
       " '__loader__',\n",
       " '__name__',\n",
       " '__package__',\n",
       " '__spec__',\n",
       " 'abs',\n",
       " 'all',\n",
       " 'any',\n",
       " 'ascii',\n",
       " 'bin',\n",
       " 'bool',\n",
       " 'bytearray',\n",
       " 'bytes',\n",
       " 'callable',\n",
       " 'chr',\n",
       " 'classmethod',\n",
       " 'compile',\n",
       " 'complex',\n",
       " 'copyright',\n",
       " 'credits',\n",
       " 'delattr',\n",
       " 'dict',\n",
       " 'dir',\n",
       " 'divmod',\n",
       " 'dreload',\n",
       " 'enumerate',\n",
       " 'eval',\n",
       " 'exec',\n",
       " 'filter',\n",
       " 'float',\n",
       " 'format',\n",
       " 'frozenset',\n",
       " 'get_ipython',\n",
       " 'getattr',\n",
       " 'globals',\n",
       " 'hasattr',\n",
       " 'hash',\n",
       " 'help',\n",
       " 'hex',\n",
       " 'id',\n",
       " 'input',\n",
       " 'int',\n",
       " 'isinstance',\n",
       " 'issubclass',\n",
       " 'iter',\n",
       " 'len',\n",
       " 'license',\n",
       " 'list',\n",
       " 'locals',\n",
       " 'map',\n",
       " 'max',\n",
       " 'memoryview',\n",
       " 'min',\n",
       " 'next',\n",
       " 'object',\n",
       " 'oct',\n",
       " 'open',\n",
       " 'ord',\n",
       " 'pow',\n",
       " 'print',\n",
       " 'property',\n",
       " 'range',\n",
       " 'repr',\n",
       " 'reversed',\n",
       " 'round',\n",
       " 'set',\n",
       " 'setattr',\n",
       " 'slice',\n",
       " 'sorted',\n",
       " 'staticmethod',\n",
       " 'str',\n",
       " 'sum',\n",
       " 'super',\n",
       " 'tuple',\n",
       " 'type',\n",
       " 'vars',\n",
       " 'zip']"
      ]
     },
     "execution_count": 75,
     "metadata": {},
     "output_type": "execute_result"
    }
   ],
   "source": [
    "dir(builtins)"
   ]
  },
  {
   "cell_type": "code",
   "execution_count": 80,
   "metadata": {
    "collapsed": false
   },
   "outputs": [
    {
     "data": {
      "text/plain": [
       "zip"
      ]
     },
     "execution_count": 80,
     "metadata": {},
     "output_type": "execute_result"
    }
   ],
   "source": [
    "zip #The normal way"
   ]
  },
  {
   "cell_type": "code",
   "execution_count": 81,
   "metadata": {
    "collapsed": false
   },
   "outputs": [
    {
     "data": {
      "text/plain": [
       "zip"
      ]
     },
     "execution_count": 81,
     "metadata": {},
     "output_type": "execute_result"
    }
   ],
   "source": [
    "import builtins # The hard way: for customizations\n",
    "\n",
    "builtins.zip"
   ]
  },
  {
   "cell_type": "code",
   "execution_count": 82,
   "metadata": {
    "collapsed": false
   },
   "outputs": [
    {
     "data": {
      "text/plain": [
       "True"
      ]
     },
     "execution_count": 82,
     "metadata": {},
     "output_type": "execute_result"
    }
   ],
   "source": [
    "zip is builtins.zip # Same object, different lookups"
   ]
  },
  {
   "cell_type": "markdown",
   "metadata": {},
   "source": [
    "The global Statement:\n",
    "\n",
    "The global statement tells Python that a function plans\n",
    "to change one or more global names—that is, names that live in the enclosing module’s\n",
    "scope (namespace).\n",
    "\n",
    "• Global names are variables assigned at the top level of the enclosing module file.\n",
    "\n",
    "• Global names must be declared only if they are assigned within a function.\n",
    "\n",
    "• Global names may be referenced within a function without being declared.\n",
    "    "
   ]
  },
  {
   "cell_type": "code",
   "execution_count": 83,
   "metadata": {
    "collapsed": true
   },
   "outputs": [],
   "source": [
    "y, z = 1, 2          # Global variables in module\n",
    "def all_global():\n",
    "    global x         # Declare globals assigned\n",
    "    x = y + z        # No need to declare y, z: LEGB rule"
   ]
  },
  {
   "cell_type": "markdown",
   "metadata": {},
   "source": [
    "Here, x, y, and z are all globals inside the function all_global. y and z are global because\n",
    "they aren’t assigned in the function; x is global because it was listed in a global statement\n",
    "to map it to the module’s scope explicitly. Without the global here, x would be considered\n",
    "local by virtue of the assignment."
   ]
  },
  {
   "cell_type": "markdown",
   "metadata": {},
   "source": [
    "Scopes and Nested Functions:\n",
    "\n",
    "it’s time to take a deeper look at the\n",
    "letter E in the LEGB lookup rule. The E layer was added in Python 2.2; it takes the form\n",
    "of the local scopes of any and all enclosing function’s local scopes. Enclosing scopes\n",
    "are sometimes also called statically nested scopes. Really, the nesting is a lexical one—\n",
    "nested scopes correspond to physically and syntactically nested code structures in your\n",
    "program’s source code text."
   ]
  },
  {
   "cell_type": "code",
   "execution_count": 91,
   "metadata": {
    "collapsed": false
   },
   "outputs": [
    {
     "name": "stdout",
     "output_type": "stream",
     "text": [
      "88\n"
     ]
    }
   ],
   "source": [
    "X = 99 # Global scope name: not used\n",
    "def f1():\n",
    "    X = 88 # Enclosing def local\n",
    "    def f2():\n",
    "        print(X) # Reference made in nested def\n",
    "    f2()\n",
    "f1() # Prints 88: enclosing def local"
   ]
  },
  {
   "cell_type": "markdown",
   "metadata": {},
   "source": [
    "Factory Functions: Closures\n",
    "\n",
    "Factory functions (a.k.a. closures) are sometimes used by programs that need to generate\n",
    "event handlers on the fly in response to conditions at runtime. For instance,\n",
    "imagine a GUI that must define actions according to user inputs that cannot be anticipated\n",
    "when the GUI is built. In such cases, we need a function that creates and returns\n",
    "another function, with information that may vary per function made."
   ]
  },
  {
   "cell_type": "code",
   "execution_count": 92,
   "metadata": {
    "collapsed": true
   },
   "outputs": [],
   "source": [
    "def maker(N):\n",
    "    def action(X): # Make and return action\n",
    "        return X ** N # action retains N from enclosing scope\n",
    "    return action"
   ]
  },
  {
   "cell_type": "code",
   "execution_count": 94,
   "metadata": {
    "collapsed": false
   },
   "outputs": [],
   "source": [
    "f = maker(2)"
   ]
  },
  {
   "cell_type": "code",
   "execution_count": 95,
   "metadata": {
    "collapsed": false
   },
   "outputs": [
    {
     "data": {
      "text/plain": [
       "<function __main__.maker.<locals>.action>"
      ]
     },
     "execution_count": 95,
     "metadata": {},
     "output_type": "execute_result"
    }
   ],
   "source": [
    "f"
   ]
  },
  {
   "cell_type": "code",
   "execution_count": 96,
   "metadata": {
    "collapsed": false
   },
   "outputs": [
    {
     "data": {
      "text/plain": [
       "9"
      ]
     },
     "execution_count": 96,
     "metadata": {},
     "output_type": "execute_result"
    }
   ],
   "source": [
    "f(3)"
   ]
  },
  {
   "cell_type": "markdown",
   "metadata": {},
   "source": [
    "On the other hand, enclosing scopes are often employed by the\n",
    "lambda function-creation expressions, they are almost always nested within a def. For example, a\n",
    "lambda would serve in place of a def in our example:"
   ]
  },
  {
   "cell_type": "code",
   "execution_count": 97,
   "metadata": {
    "collapsed": true
   },
   "outputs": [],
   "source": [
    "def maker(N):\n",
    "    return lambda X: X ** N # lambda functions retain state too"
   ]
  },
  {
   "cell_type": "code",
   "execution_count": 98,
   "metadata": {
    "collapsed": true
   },
   "outputs": [],
   "source": [
    "h = maker(3)"
   ]
  },
  {
   "cell_type": "code",
   "execution_count": 99,
   "metadata": {
    "collapsed": false
   },
   "outputs": [
    {
     "data": {
      "text/plain": [
       "<function __main__.maker.<locals>.<lambda>>"
      ]
     },
     "execution_count": 99,
     "metadata": {},
     "output_type": "execute_result"
    }
   ],
   "source": [
    "h"
   ]
  },
  {
   "cell_type": "code",
   "execution_count": 100,
   "metadata": {
    "collapsed": false
   },
   "outputs": [
    {
     "data": {
      "text/plain": [
       "27"
      ]
     },
     "execution_count": 100,
     "metadata": {},
     "output_type": "execute_result"
    }
   ],
   "source": [
    "h(3)"
   ]
  },
  {
   "cell_type": "markdown",
   "metadata": {},
   "source": [
    "Closures versus classes:\n",
    "\n",
    "To some, classes may seem better at state\n",
    "retention like this, because they make their memory more explicit with attribute assignments.\n",
    "Classes also directly support additional tools that closure functions do not,\n",
    "such as customization by inheritance and operator overloading, and more naturally\n",
    "implement multiple behaviors in the form of methods. Because of such distinctions,\n",
    "classes may be better at implementing more complete objects.\n",
    "\n",
    "Still, closure functions often provide a lighter-weight and viable alternative when retaining\n",
    "state is the only goal. They provide for per-call localized storage for data required\n",
    "by a single nested function. This is especially true when we add the 3.X nonlocal statement\n",
    "described ahead to allow enclosing scope state changes (in 2.X, enclosing scopes\n",
    "are read-only, and so have more limited uses)."
   ]
  },
  {
   "cell_type": "markdown",
   "metadata": {},
   "source": [
    "Nested scopes, defaults, and lambdas:\n",
    "\n",
    "Like a def, a lambda expression also introduces a new local scope for the function it\n",
    "creates. Thanks to the enclosing scopes lookup layer, lambdas can see all the variables\n",
    "that live in the functions in which they are coded. Thus, the following code—a variation\n",
    "on the factory we saw earlier—works, but only because the nested scope rules are\n",
    "applied:"
   ]
  },
  {
   "cell_type": "code",
   "execution_count": 104,
   "metadata": {
    "collapsed": true
   },
   "outputs": [],
   "source": [
    "def func():\n",
    "    x = 4\n",
    "    action = (lambda n: n ** x) # x remembered from enclosing def\n",
    "    return action"
   ]
  },
  {
   "cell_type": "code",
   "execution_count": 105,
   "metadata": {
    "collapsed": true
   },
   "outputs": [],
   "source": [
    "x = func()"
   ]
  },
  {
   "cell_type": "code",
   "execution_count": 108,
   "metadata": {
    "collapsed": false
   },
   "outputs": [
    {
     "data": {
      "text/plain": [
       "16"
      ]
     },
     "execution_count": 108,
     "metadata": {},
     "output_type": "execute_result"
    }
   ],
   "source": [
    "x(2) #Prints 16, 4 ** 2"
   ]
  },
  {
   "cell_type": "code",
   "execution_count": 109,
   "metadata": {
    "collapsed": true
   },
   "outputs": [],
   "source": [
    "def makeActions():\n",
    "    acts = []\n",
    "    for i in range(5):          # Use defaults instead\n",
    "        acts.append(lambda x, i=i: i ** x)    # Remember current i\n",
    "    return acts"
   ]
  },
  {
   "cell_type": "code",
   "execution_count": 110,
   "metadata": {
    "collapsed": true
   },
   "outputs": [],
   "source": [
    "acts = makeActions()"
   ]
  },
  {
   "cell_type": "code",
   "execution_count": 111,
   "metadata": {
    "collapsed": false
   },
   "outputs": [
    {
     "data": {
      "text/plain": [
       "0"
      ]
     },
     "execution_count": 111,
     "metadata": {},
     "output_type": "execute_result"
    }
   ],
   "source": [
    "acts[0](2)"
   ]
  },
  {
   "cell_type": "code",
   "execution_count": 112,
   "metadata": {
    "collapsed": false
   },
   "outputs": [
    {
     "data": {
      "text/plain": [
       "1"
      ]
     },
     "execution_count": 112,
     "metadata": {},
     "output_type": "execute_result"
    }
   ],
   "source": [
    "acts[1](2)"
   ]
  },
  {
   "cell_type": "code",
   "execution_count": 113,
   "metadata": {
    "collapsed": false
   },
   "outputs": [
    {
     "data": {
      "text/plain": [
       "4"
      ]
     },
     "execution_count": 113,
     "metadata": {},
     "output_type": "execute_result"
    }
   ],
   "source": [
    "acts[2](2)"
   ]
  },
  {
   "cell_type": "markdown",
   "metadata": {},
   "source": [
    "The nonlocal Statement in 3.X:\n",
    "\n",
    "The nonlocal statement is similar in both form and role to global, covered earlier. Like\n",
    "global, nonlocal declares that a name will be changed in an enclosing scope. Unlike\n",
    "global, though, nonlocal applies to a name in an enclosing function’s scope, not the\n",
    "global module scope outside all defs. Also unlike global, nonlocal names must already\n",
    "exist in the enclosing function’s scope when declared—they can exist only in enclosing\n",
    "functions and cannot be created by a first assignment in a nested def."
   ]
  },
  {
   "cell_type": "code",
   "execution_count": 114,
   "metadata": {
    "collapsed": true
   },
   "outputs": [],
   "source": [
    "def tester(start):\n",
    "    state = start    # Each call gets its own state\n",
    "    def nested(label):\n",
    "        nonlocal state    # Remembers state in enclosing scope\n",
    "        print(label, state)\n",
    "        state += 1     # Allowed to change it if nonlocal\n",
    "    return nested"
   ]
  },
  {
   "cell_type": "code",
   "execution_count": 115,
   "metadata": {
    "collapsed": true
   },
   "outputs": [],
   "source": [
    "F = tester(0)"
   ]
  },
  {
   "cell_type": "code",
   "execution_count": 116,
   "metadata": {
    "collapsed": false
   },
   "outputs": [
    {
     "name": "stdout",
     "output_type": "stream",
     "text": [
      "spam 0\n"
     ]
    }
   ],
   "source": [
    "F('spam')"
   ]
  },
  {
   "cell_type": "code",
   "execution_count": 117,
   "metadata": {
    "collapsed": false
   },
   "outputs": [
    {
     "name": "stdout",
     "output_type": "stream",
     "text": [
      "ham 1\n"
     ]
    }
   ],
   "source": [
    "F('ham')"
   ]
  },
  {
   "cell_type": "code",
   "execution_count": 118,
   "metadata": {
    "collapsed": false
   },
   "outputs": [
    {
     "name": "stdout",
     "output_type": "stream",
     "text": [
      "eggs 2\n"
     ]
    }
   ],
   "source": [
    "F('eggs')"
   ]
  },
  {
   "cell_type": "markdown",
   "metadata": {},
   "source": [
    "Boundary cases:\n",
    "\n",
    "Though useful, nonlocals come with some subtleties to be aware of. First, unlike the\n",
    "global statement, nonlocal names really must have previously been assigned in an enclosing\n",
    "def’s scope when a nonlocal is evaluated, or else you’ll get an error—you cannot\n",
    "create them dynamically by assigning them anew in the enclosing scope. In fact, they\n",
    "are checked at function definition time before either an enclosing or nested function is\n",
    "called:"
   ]
  },
  {
   "cell_type": "code",
   "execution_count": 120,
   "metadata": {
    "collapsed": false
   },
   "outputs": [
    {
     "ename": "SyntaxError",
     "evalue": "no binding for nonlocal 'state' found (<ipython-input-120-007294cfa95a>, line 3)",
     "output_type": "error",
     "traceback": [
      "\u001b[0;36m  File \u001b[0;32m\"<ipython-input-120-007294cfa95a>\"\u001b[0;36m, line \u001b[0;32m3\u001b[0m\n\u001b[0;31m    nonlocal state # Nonlocals must already exist in enclosing def!\u001b[0m\n\u001b[0;31mSyntaxError\u001b[0m\u001b[0;31m:\u001b[0m no binding for nonlocal 'state' found\n"
     ]
    }
   ],
   "source": [
    "def tester(start):\n",
    "    def nested(label):\n",
    "        nonlocal state # Nonlocals must already exist in enclosing def!\n",
    "        state = 0\n",
    "        print(label, state)\n",
    "    return nested"
   ]
  },
  {
   "cell_type": "markdown",
   "metadata": {},
   "source": [
    "Argument-Passing Basics:\n",
    "\n",
    "• Arguments are passed by automatically assigning objects to local variable\n",
    "names.\n",
    "\n",
    "• Assigning to argument names inside a function does not affect the caller.\n",
    "\n",
    "• Changing a mutable object argument in a function may impact the caller.\n",
    "\n",
    "• Immutable arguments are effectively passed “by value.”\n",
    "\n",
    "• Mutable arguments are effectively passed “by pointer.”"
   ]
  },
  {
   "cell_type": "code",
   "execution_count": 121,
   "metadata": {
    "collapsed": true
   },
   "outputs": [],
   "source": [
    "def f(a): # a is assigned to (references) the passed object\n",
    "    a = 99 # Changes local variable a only"
   ]
  },
  {
   "cell_type": "code",
   "execution_count": 122,
   "metadata": {
    "collapsed": true
   },
   "outputs": [],
   "source": [
    "b = 88"
   ]
  },
  {
   "cell_type": "code",
   "execution_count": 123,
   "metadata": {
    "collapsed": true
   },
   "outputs": [],
   "source": [
    "f(b)  # a and b both reference same 88 initially"
   ]
  },
  {
   "cell_type": "code",
   "execution_count": 124,
   "metadata": {
    "collapsed": false
   },
   "outputs": [
    {
     "name": "stdout",
     "output_type": "stream",
     "text": [
      "88\n"
     ]
    }
   ],
   "source": [
    "print(b) # b is not changed"
   ]
  },
  {
   "cell_type": "code",
   "execution_count": 126,
   "metadata": {
    "collapsed": false
   },
   "outputs": [],
   "source": [
    "def changer(a, b): # Arguments assigned references to objects\n",
    "    a = 2 # Changes local name's value only\n",
    "    b[0] = 'spam' # Changes shared object in place"
   ]
  },
  {
   "cell_type": "code",
   "execution_count": 127,
   "metadata": {
    "collapsed": true
   },
   "outputs": [],
   "source": [
    "X = 1\n",
    "\n",
    "L = [1, 2] # Caller:\n",
    "\n",
    "changer(X, L) # Pass immutable and mutable objects"
   ]
  },
  {
   "cell_type": "code",
   "execution_count": 128,
   "metadata": {
    "collapsed": false
   },
   "outputs": [
    {
     "data": {
      "text/plain": [
       "(1, ['spam', 2])"
      ]
     },
     "execution_count": 128,
     "metadata": {},
     "output_type": "execute_result"
    }
   ],
   "source": [
    "X, L # X is unchanged, L is different!"
   ]
  },
  {
   "cell_type": "markdown",
   "metadata": {},
   "source": [
    "Argument Matching Basics:\n",
    "\n",
    "Positionals: matched from left to right\n",
    "\n",
    "Keywords: matched by argument name\n",
    "\n",
    "Defaults: specify values for optional arguments that aren’t passed\n",
    "\n",
    "Varargs collecting: collect arbitrarily many positional or keyword arguments\n",
    "\n",
    "Varargs unpacking: pass arbitrarily many positional or keyword arguments\n",
    "\n",
    "Keyword-only arguments: arguments that must be passed by name"
   ]
  },
  {
   "cell_type": "markdown",
   "metadata": {},
   "source": [
    "Function argument-matching forms:\n",
    "\n",
    "    Syntax > Location > Interpretation\n",
    "    \n",
    "    func(value) > Caller > Normal argument: matched by position\n",
    "    \n",
    "    func(name=value) > Caller > Keyword argument: matched by name\n",
    "    \n",
    "    func(*iterable) > Caller > Pass all objects in iterable as individual positional arguments\n",
    "    \n",
    "    func(**dict) > Caller > Pass all key/value pairs in dict as individual keyword arguments\n",
    "    \n",
    "    def func(name) > Function > Normal argument: matches any passed value by position or name\n",
    "    \n",
    "    def func(name=value) > Function > Default argument value, if not passed in the call\n",
    "    \n",
    "    def func(*name) > Function > Matches and collects remaining positional arguments in a tuple\n",
    "    \n",
    "    def func(**name) > Function > Matches and collects remaining keyword arguments in a dictionary\n",
    "    \n",
    "    def func(*other, name) > Function > Arguments that must be passed by keyword only in calls (3.X)\n",
    "    \n",
    "    def func(*, name=value) > Function > Arguments that must be passed by keyword only in calls (3.X)"
   ]
  },
  {
   "cell_type": "code",
   "execution_count": 129,
   "metadata": {
    "collapsed": true
   },
   "outputs": [],
   "source": [
    "#defaults\n",
    "\n",
    "def f(a, b=2, c=3): print(a, b, c) # a required, b and c optional"
   ]
  },
  {
   "cell_type": "code",
   "execution_count": 130,
   "metadata": {
    "collapsed": false
   },
   "outputs": [
    {
     "name": "stdout",
     "output_type": "stream",
     "text": [
      "1 2 3\n"
     ]
    }
   ],
   "source": [
    "f(1) # Use defaults"
   ]
  },
  {
   "cell_type": "code",
   "execution_count": 131,
   "metadata": {
    "collapsed": false
   },
   "outputs": [
    {
     "name": "stdout",
     "output_type": "stream",
     "text": [
      "1 2 3\n"
     ]
    }
   ],
   "source": [
    "f(a=1)"
   ]
  },
  {
   "cell_type": "code",
   "execution_count": 132,
   "metadata": {
    "collapsed": false
   },
   "outputs": [
    {
     "name": "stdout",
     "output_type": "stream",
     "text": [
      "1 4 3\n"
     ]
    }
   ],
   "source": [
    "f(1,4)  # Override defaults"
   ]
  },
  {
   "cell_type": "code",
   "execution_count": 133,
   "metadata": {
    "collapsed": false
   },
   "outputs": [
    {
     "name": "stdout",
     "output_type": "stream",
     "text": [
      "1 2 6\n"
     ]
    }
   ],
   "source": [
    "f(1, c=6) # Choose defaults"
   ]
  },
  {
   "cell_type": "code",
   "execution_count": 134,
   "metadata": {
    "collapsed": true
   },
   "outputs": [],
   "source": [
    "#Combining keywords and defaults\n",
    "\n",
    "def func(spam, eggs, toast=0, ham=0): # First 2 required\n",
    "    print((spam, eggs, toast, ham))\n",
    "    "
   ]
  },
  {
   "cell_type": "code",
   "execution_count": 135,
   "metadata": {
    "collapsed": false
   },
   "outputs": [
    {
     "name": "stdout",
     "output_type": "stream",
     "text": [
      "(1, 0, 0, 0)\n"
     ]
    }
   ],
   "source": [
    "func(spam=1, eggs=0)"
   ]
  },
  {
   "cell_type": "code",
   "execution_count": 136,
   "metadata": {
    "collapsed": false
   },
   "outputs": [
    {
     "name": "stdout",
     "output_type": "stream",
     "text": [
      "(3, 2, 1, 0)\n"
     ]
    }
   ],
   "source": [
    "func(toast=1, eggs=2, spam=3)"
   ]
  },
  {
   "cell_type": "code",
   "execution_count": 137,
   "metadata": {
    "collapsed": false
   },
   "outputs": [
    {
     "name": "stdout",
     "output_type": "stream",
     "text": [
      "(1, 2, 3, 4)\n"
     ]
    }
   ],
   "source": [
    "func(1, 2, 3, 4) #positional"
   ]
  },
  {
   "cell_type": "markdown",
   "metadata": {},
   "source": [
    "Arbitrary Arguments Examples:"
   ]
  },
  {
   "cell_type": "code",
   "execution_count": 144,
   "metadata": {
    "collapsed": false
   },
   "outputs": [],
   "source": [
    "#The first use, in the function definition, collects unmatched positional arguments into a tuple:\n",
    "\n",
    "def f(*args): print(args)"
   ]
  },
  {
   "cell_type": "code",
   "execution_count": 139,
   "metadata": {
    "collapsed": false
   },
   "outputs": [
    {
     "name": "stdout",
     "output_type": "stream",
     "text": [
      "()\n"
     ]
    }
   ],
   "source": [
    "f()"
   ]
  },
  {
   "cell_type": "code",
   "execution_count": 140,
   "metadata": {
    "collapsed": false
   },
   "outputs": [
    {
     "name": "stdout",
     "output_type": "stream",
     "text": [
      "(5,)\n"
     ]
    }
   ],
   "source": [
    "f(5)"
   ]
  },
  {
   "cell_type": "code",
   "execution_count": 142,
   "metadata": {
    "collapsed": false
   },
   "outputs": [
    {
     "name": "stdout",
     "output_type": "stream",
     "text": [
      "(1, 2, 3, 4, 5)\n"
     ]
    }
   ],
   "source": [
    "f(1,2,3,4,5)"
   ]
  },
  {
   "cell_type": "code",
   "execution_count": 154,
   "metadata": {
    "collapsed": false
   },
   "outputs": [
    {
     "data": {
      "text/plain": [
       "'The ** feature is similar, but it only works for keyword arguments—it collects them\\ninto a new dictionary, which can then be processed with normal dictionary tools. In a\\nsense, the ** form allows you to convert from keywords to dictionaries, which you can\\nthen step through with keys calls, dictionary iterators, and the like (this is roughly what\\nthe dict call does when passed keywords, but it returns the new dictionary):'"
      ]
     },
     "execution_count": 154,
     "metadata": {},
     "output_type": "execute_result"
    }
   ],
   "source": [
    "'''The ** feature is similar, but it only works for keyword arguments—it collects them\n",
    "into a new dictionary, which can then be processed with normal dictionary tools. In a\n",
    "sense, the ** form allows you to convert from keywords to dictionaries, which you can\n",
    "then step through with keys calls, dictionary iterators, and the like (this is roughly what\n",
    "the dict call does when passed keywords, but it returns the new dictionary):'''"
   ]
  },
  {
   "cell_type": "code",
   "execution_count": 145,
   "metadata": {
    "collapsed": true
   },
   "outputs": [],
   "source": [
    "def f(**args): print(args)"
   ]
  },
  {
   "cell_type": "code",
   "execution_count": 146,
   "metadata": {
    "collapsed": false
   },
   "outputs": [
    {
     "name": "stdout",
     "output_type": "stream",
     "text": [
      "{}\n"
     ]
    }
   ],
   "source": [
    "f()"
   ]
  },
  {
   "cell_type": "code",
   "execution_count": 147,
   "metadata": {
    "collapsed": false
   },
   "outputs": [
    {
     "name": "stdout",
     "output_type": "stream",
     "text": [
      "{'a': 1, 'b': 2}\n"
     ]
    }
   ],
   "source": [
    "f(a=1, b=2)"
   ]
  },
  {
   "cell_type": "code",
   "execution_count": 148,
   "metadata": {
    "collapsed": true
   },
   "outputs": [],
   "source": [
    "def f(a, *pargs, **kargs): print(a, pargs, kargs)"
   ]
  },
  {
   "cell_type": "code",
   "execution_count": 149,
   "metadata": {
    "collapsed": false
   },
   "outputs": [
    {
     "name": "stdout",
     "output_type": "stream",
     "text": [
      "1 (2, 3) {'x': 1, 'y': 2}\n"
     ]
    }
   ],
   "source": [
    "f(1, 2, 3, x=1, y=2)"
   ]
  },
  {
   "cell_type": "code",
   "execution_count": 150,
   "metadata": {
    "collapsed": true
   },
   "outputs": [],
   "source": [
    "#Calls: Unpacking arguments\n",
    "\n",
    "def func(a, b, c, d): print(a, b, c, d)"
   ]
  },
  {
   "cell_type": "code",
   "execution_count": 151,
   "metadata": {
    "collapsed": true
   },
   "outputs": [],
   "source": [
    "args = (1, 2)"
   ]
  },
  {
   "cell_type": "code",
   "execution_count": 152,
   "metadata": {
    "collapsed": true
   },
   "outputs": [],
   "source": [
    "args += (3, 4)"
   ]
  },
  {
   "cell_type": "code",
   "execution_count": 153,
   "metadata": {
    "collapsed": false
   },
   "outputs": [
    {
     "name": "stdout",
     "output_type": "stream",
     "text": [
      "1 2 3 4\n"
     ]
    }
   ],
   "source": [
    "func(*args) # Same as func(1, 2, 3, 4)"
   ]
  },
  {
   "cell_type": "markdown",
   "metadata": {},
   "source": [
    "Similarly, the ** syntax in a function call unpacks a dictionary of key/value pairs into\n",
    "separate keyword arguments:"
   ]
  },
  {
   "cell_type": "code",
   "execution_count": 155,
   "metadata": {
    "collapsed": true
   },
   "outputs": [],
   "source": [
    "args = {'a': 1, 'b': 2, 'c': 3}"
   ]
  },
  {
   "cell_type": "code",
   "execution_count": 156,
   "metadata": {
    "collapsed": true
   },
   "outputs": [],
   "source": [
    "args['d'] = 4"
   ]
  },
  {
   "cell_type": "code",
   "execution_count": 157,
   "metadata": {
    "collapsed": false
   },
   "outputs": [
    {
     "name": "stdout",
     "output_type": "stream",
     "text": [
      "1 2 3 4\n"
     ]
    }
   ],
   "source": [
    "func(**args) # Same as func(a=1, b=2, c=3, d=4)"
   ]
  },
  {
   "cell_type": "markdown",
   "metadata": {},
   "source": [
    "Because the arguments list is passed in as a tuple here, the program can build it at\n",
    "runtime. This technique also comes in handy for functions that test or time other functions.\n",
    "For instance, in the following code we support any function with any arguments\n",
    "by passing along whatever arguments were sent in (this is file tracer0.py in the book\n",
    "examples package):"
   ]
  },
  {
   "cell_type": "code",
   "execution_count": 158,
   "metadata": {
    "collapsed": true
   },
   "outputs": [],
   "source": [
    "def tracer(func, *pargs, **kargs): # Accept arbitrary arguments\n",
    "    print('calling:', func.__name__)\n",
    "    return func(*pargs, **kargs) # Pass along arbitrary arguments"
   ]
  },
  {
   "cell_type": "code",
   "execution_count": 159,
   "metadata": {
    "collapsed": true
   },
   "outputs": [],
   "source": [
    "def func(a, b, c, d):\n",
    "    return a + b + c + d"
   ]
  },
  {
   "cell_type": "code",
   "execution_count": 160,
   "metadata": {
    "collapsed": false
   },
   "outputs": [
    {
     "name": "stdout",
     "output_type": "stream",
     "text": [
      "calling: func\n"
     ]
    },
    {
     "data": {
      "text/plain": [
       "10"
      ]
     },
     "execution_count": 160,
     "metadata": {},
     "output_type": "execute_result"
    }
   ],
   "source": [
    "tracer(func, 1, 2, c=3, d=4)"
   ]
  },
  {
   "cell_type": "markdown",
   "metadata": {},
   "source": [
    "Python 3.X Keyword-Only Arguments:\n",
    "\n",
    "Syntactically, keyword-only arguments are coded as named arguments that may appear\n",
    "after *args in the arguments list. All such arguments must be passed using keyword\n",
    "syntax in the call. For example, in the following, a may be passed by name or position,\n",
    "b collects any extra positional arguments, and c must be passed by keyword only. In 3.X:"
   ]
  },
  {
   "cell_type": "code",
   "execution_count": 161,
   "metadata": {
    "collapsed": true
   },
   "outputs": [],
   "source": [
    "def kwonly(a, *b, c):\n",
    "    print(a, b, c)"
   ]
  },
  {
   "cell_type": "code",
   "execution_count": 162,
   "metadata": {
    "collapsed": false
   },
   "outputs": [
    {
     "name": "stdout",
     "output_type": "stream",
     "text": [
      "1 (2,) 3\n"
     ]
    }
   ],
   "source": [
    "kwonly(1, 2, c=3)"
   ]
  },
  {
   "cell_type": "code",
   "execution_count": 163,
   "metadata": {
    "collapsed": false
   },
   "outputs": [
    {
     "name": "stdout",
     "output_type": "stream",
     "text": [
      "1 () 3\n"
     ]
    }
   ],
   "source": [
    "kwonly(a=1, c=3)"
   ]
  },
  {
   "cell_type": "code",
   "execution_count": 164,
   "metadata": {
    "collapsed": false
   },
   "outputs": [
    {
     "ename": "TypeError",
     "evalue": "kwonly() missing 1 required keyword-only argument: 'c'",
     "output_type": "error",
     "traceback": [
      "\u001b[0;31m---------------------------------------------------------------------------\u001b[0m",
      "\u001b[0;31mTypeError\u001b[0m                                 Traceback (most recent call last)",
      "\u001b[0;32m<ipython-input-164-a938e642a5e2>\u001b[0m in \u001b[0;36m<module>\u001b[0;34m()\u001b[0m\n\u001b[0;32m----> 1\u001b[0;31m \u001b[0mkwonly\u001b[0m\u001b[1;33m(\u001b[0m\u001b[1;36m1\u001b[0m\u001b[1;33m,\u001b[0m \u001b[1;36m2\u001b[0m\u001b[1;33m,\u001b[0m \u001b[1;36m3\u001b[0m\u001b[1;33m)\u001b[0m\u001b[1;33m\u001b[0m\u001b[0m\n\u001b[0m",
      "\u001b[0;31mTypeError\u001b[0m: kwonly() missing 1 required keyword-only argument: 'c'"
     ]
    }
   ],
   "source": [
    "kwonly(1, 2, 3)"
   ]
  },
  {
   "cell_type": "markdown",
   "metadata": {},
   "source": [
    "You can still use defaults for keyword-only arguments, even though they appear after\n",
    "the * in the function header. In the following code, a may be passed by name or position,\n",
    "and b and c are optional but must be passed by keyword if used:"
   ]
  },
  {
   "cell_type": "code",
   "execution_count": 165,
   "metadata": {
    "collapsed": true
   },
   "outputs": [],
   "source": [
    "def kwonly(a, *, b='spam', c='ham'):\n",
    "    print(a, b, c)"
   ]
  },
  {
   "cell_type": "code",
   "execution_count": 166,
   "metadata": {
    "collapsed": false
   },
   "outputs": [
    {
     "name": "stdout",
     "output_type": "stream",
     "text": [
      "1 spam ham\n"
     ]
    }
   ],
   "source": [
    "kwonly(1)"
   ]
  },
  {
   "cell_type": "code",
   "execution_count": 167,
   "metadata": {
    "collapsed": false
   },
   "outputs": [
    {
     "name": "stdout",
     "output_type": "stream",
     "text": [
      "1 spam 3\n"
     ]
    }
   ],
   "source": [
    "kwonly(1, c=3)"
   ]
  },
  {
   "cell_type": "code",
   "execution_count": 168,
   "metadata": {
    "collapsed": false
   },
   "outputs": [
    {
     "name": "stdout",
     "output_type": "stream",
     "text": [
      "1 spam ham\n"
     ]
    }
   ],
   "source": [
    "kwonly(a=1)"
   ]
  },
  {
   "cell_type": "code",
   "execution_count": 169,
   "metadata": {
    "collapsed": false
   },
   "outputs": [
    {
     "name": "stdout",
     "output_type": "stream",
     "text": [
      "1 2 3\n"
     ]
    }
   ],
   "source": [
    "kwonly(c=3, b=2, a=1)"
   ]
  },
  {
   "cell_type": "code",
   "execution_count": 170,
   "metadata": {
    "collapsed": false
   },
   "outputs": [
    {
     "ename": "TypeError",
     "evalue": "kwonly() takes 1 positional argument but 2 were given",
     "output_type": "error",
     "traceback": [
      "\u001b[0;31m---------------------------------------------------------------------------\u001b[0m",
      "\u001b[0;31mTypeError\u001b[0m                                 Traceback (most recent call last)",
      "\u001b[0;32m<ipython-input-170-f9ad73d722b0>\u001b[0m in \u001b[0;36m<module>\u001b[0;34m()\u001b[0m\n\u001b[0;32m----> 1\u001b[0;31m \u001b[0mkwonly\u001b[0m\u001b[1;33m(\u001b[0m\u001b[1;36m1\u001b[0m\u001b[1;33m,\u001b[0m \u001b[1;36m2\u001b[0m\u001b[1;33m)\u001b[0m\u001b[1;33m\u001b[0m\u001b[0m\n\u001b[0m",
      "\u001b[0;31mTypeError\u001b[0m: kwonly() takes 1 positional argument but 2 were given"
     ]
    }
   ],
   "source": [
    "kwonly(1, 2)"
   ]
  },
  {
   "cell_type": "markdown",
   "metadata": {},
   "source": [
    "Why keyword-only arguments?\n",
    "\n",
    "So why care about keyword-only arguments? In short, they make it easier to allow a\n",
    "function to accept both any number of positional arguments to be processed, and configuration\n",
    "options passed as keywords. While their use is optional, without keywordonly\n",
    "arguments extra work may be required to provide defaults for such options and\n",
    "to verify that no superfluous keywords were passed."
   ]
  },
  {
   "cell_type": "code",
   "execution_count": null,
   "metadata": {
    "collapsed": true
   },
   "outputs": [],
   "source": []
  }
 ],
 "metadata": {
  "kernelspec": {
   "display_name": "Python 3",
   "language": "python",
   "name": "python3"
  },
  "language_info": {
   "codemirror_mode": {
    "name": "ipython",
    "version": 3
   },
   "file_extension": ".py",
   "mimetype": "text/x-python",
   "name": "python",
   "nbconvert_exporter": "python",
   "pygments_lexer": "ipython3",
   "version": "3.6.0"
  }
 },
 "nbformat": 4,
 "nbformat_minor": 2
}
