{
 "cells": [
  {
   "cell_type": "markdown",
   "metadata": {},
   "source": [
    "In Python, classes are created with a new statement: the class."
   ]
  },
  {
   "cell_type": "markdown",
   "metadata": {},
   "source": [
    "As you’ll see, the objects\n",
    "defined with classes can look a lot like the built-in types.\n",
    "In fact, classes really just apply and extend the ideas we’ve already covered; roughly,\n",
    "they are packages of functions that use and process built-in object types. Classes,\n",
    "though, are designed to create and manage new objects, and support inheritance—a\n",
    "mechanism of code customization and reuse above and beyond anything we’ve seen\n",
    "so far."
   ]
  },
  {
   "cell_type": "markdown",
   "metadata": {},
   "source": [
    "One note up front: in Python, OOP is entirely optional, and you don’t need to use\n",
    "classes just to get started. You can get plenty of work done with simpler constructs such\n",
    "as functions, or even simple top-level script code. Because using classes well requires\n",
    "some up-front planning, they tend to be of more interest to people who work in strategic\n",
    "mode (doing long-term product development) than to people who work in tactical\n",
    "mode (where time is in very short supply)."
   ]
  },
  {
   "cell_type": "markdown",
   "metadata": {},
   "source": [
    "Notice that in the Python object model, classes and\n",
    "the instances you generate from them are two distinct object types:"
   ]
  },
  {
   "cell_type": "markdown",
   "metadata": {},
   "source": [
    "Classes:\n",
    "\n",
    "Serve as instance factories. Their attributes provide behavior—data and functions\n",
    "—that is inherited by all the instances generated from them (e.g., a function to\n",
    "compute an employee’s salary from pay and hours)."
   ]
  },
  {
   "cell_type": "markdown",
   "metadata": {},
   "source": [
    "Instances:\n",
    "    \n",
    "Represent the concrete items in a program’s domain. Their attributes record data\n",
    "that varies per specific object (e.g., an employee’s Social Security number)."
   ]
  },
  {
   "cell_type": "markdown",
   "metadata": {},
   "source": [
    "The primary difference between classes and instances is that classes are a kind of factory\n",
    "for generating instances. For example, in a realistic application, we might have an\n",
    "Employee class that defines what it means to be an employee; from that class, we generate\n",
    "actual Employee instances. This is another difference between classes and modules—\n",
    "we only ever have one instance of a given module in memory (that’s why we have to\n",
    "reload a module to get its new code), but with classes, we can make as many instances\n",
    "as we need."
   ]
  },
  {
   "cell_type": "markdown",
   "metadata": {},
   "source": [
    "Coding Class Trees:\n",
    "\n",
    "• Each class statement generates a new class object.\n",
    "\n",
    "• Each time a class is called, it generates a new instance object.\n",
    "\n",
    "• Instances are automatically linked to the classes from which they are created.\n",
    "\n",
    "• Classes are automatically linked to their superclasses according to the way we list\n",
    "them in parentheses in a class header line; the left-to-right order there gives the\n",
    "order in the tree.\n",
    "    \n",
    "    "
   ]
  },
  {
   "cell_type": "markdown",
   "metadata": {},
   "source": [
    "Because of the way inheritance searches proceed, the object to which you attach an\n",
    "attribute turns out to be crucial—it determines the name’s scope. Attributes attached\n",
    "to instances pertain only to those single instances, but attributes attached to classes are\n",
    "shared by all their subclasses and instances.\n",
    "\n",
    "• Attributes are usually attached to classes by assignments made at the top level in\n",
    "class statement blocks, and not nested inside function def statements there.\n",
    "\n",
    "• Attributes are usually attached to instances by assignments to the special argument\n",
    "passed to functions coded inside classes, called self.\n",
    "\n"
   ]
  },
  {
   "cell_type": "code",
   "execution_count": 4,
   "metadata": {
    "collapsed": true
   },
   "outputs": [],
   "source": [
    "class C2: ... # Make superclass objects"
   ]
  },
  {
   "cell_type": "code",
   "execution_count": 5,
   "metadata": {
    "collapsed": true
   },
   "outputs": [],
   "source": [
    "class C3: ..."
   ]
  },
  {
   "cell_type": "code",
   "execution_count": 6,
   "metadata": {
    "collapsed": true
   },
   "outputs": [],
   "source": [
    "class C1(C2, C3):              # Make and link class C1\n",
    "    def setname(self, who):    # Assign name: C1.setname\n",
    "        self.name = who        # Self is either I1 or I2"
   ]
  },
  {
   "cell_type": "code",
   "execution_count": 7,
   "metadata": {
    "collapsed": true
   },
   "outputs": [],
   "source": [
    "i1 = C1()   # Make two instances\n",
    "\n",
    "i2 = C1()"
   ]
  },
  {
   "cell_type": "code",
   "execution_count": 8,
   "metadata": {
    "collapsed": true
   },
   "outputs": [],
   "source": [
    "i1.setname('sam')"
   ]
  },
  {
   "cell_type": "code",
   "execution_count": 9,
   "metadata": {
    "collapsed": true
   },
   "outputs": [],
   "source": [
    "i2.setname('tony')"
   ]
  },
  {
   "cell_type": "code",
   "execution_count": 10,
   "metadata": {},
   "outputs": [
    {
     "name": "stdout",
     "output_type": "stream",
     "text": [
      "sam\n"
     ]
    }
   ],
   "source": [
    "print(i1.name)"
   ]
  },
  {
   "cell_type": "markdown",
   "metadata": {},
   "source": [
    "Operationally,\n",
    "when a def appears inside a class like this, it is usually known as a method, and it\n",
    "automatically receives a special first argument—called self by convention—that provides\n",
    "a handle back to the instance to be processed. Any values you pass to the method\n",
    "yourself go to arguments after self (here, to who)."
   ]
  },
  {
   "cell_type": "markdown",
   "metadata": {},
   "source": [
    "Because classes are factories for multiple instances, their methods usually go through\n",
    "this automatically passed-in self argument whenever they need to fetch or set attributes\n",
    "of the particular instance being processed by a method call. In the preceding code,\n",
    "self is used to store a name in one of two instances."
   ]
  },
  {
   "cell_type": "markdown",
   "metadata": {},
   "source": [
    "Operator Overloading:\n",
    "\n",
    "As currently coded, our C1 class doesn’t attach a name attribute to an instance until the\n",
    "setname method is called. Indeed, referencing I1.name before calling I1.setname would\n",
    "produce an undefined name error. If a class wants to guarantee that an attribute like\n",
    "name is always set in its instances, it more typically will fill out the attribute at construction\n",
    "time, like this:"
   ]
  },
  {
   "cell_type": "code",
   "execution_count": 11,
   "metadata": {
    "collapsed": true
   },
   "outputs": [],
   "source": [
    "class C2: ... # Make superclass objects"
   ]
  },
  {
   "cell_type": "code",
   "execution_count": 13,
   "metadata": {
    "collapsed": true
   },
   "outputs": [],
   "source": [
    "class C3: ..."
   ]
  },
  {
   "cell_type": "code",
   "execution_count": 15,
   "metadata": {},
   "outputs": [
    {
     "name": "stdout",
     "output_type": "stream",
     "text": [
      "bob\n"
     ]
    }
   ],
   "source": [
    "class C1(C2, C3):\n",
    "    def __init__(self, who): # Set name when constructed\n",
    "        self.name = who # Self is either I1 or I2\n",
    "    \n",
    "I1 = C1('bob') # Sets I1.name to 'bob'\n",
    "I2 = C1('sue') # Sets I2.name to 'sue'\n",
    "print(I1.name) # Prints 'bob'"
   ]
  },
  {
   "cell_type": "markdown",
   "metadata": {},
   "source": [
    "If it’s coded or inherited, Python automatically calls a method named __init__ each\n",
    "time an instance is generated from a class. The new instance is passed in to the self\n",
    "argument of __init__ as usual, and any values listed in parentheses in the class call go\n",
    "to arguments two and beyond. The effect here is to initialize instances when they are\n",
    "made, without requiring extra method calls.\n",
    "\n",
    "The __init__ method is known as the constructor because of when it is run. It’s the\n",
    "most commonly used representative of a larger class of methods called operator overloading\n",
    "methods. Such\n",
    "methods are inherited in class trees as usual and have double underscores at the start\n",
    "and end of their names to make them distinct. Python runs them automatically when\n",
    "instances that support them appear in the corresponding operations, and they are\n",
    "mostly an alternative to using simple method calls. They’re also optional: if omitted,\n",
    "the operations are not supported. If no __init__ is present, class calls return an empty\n",
    "instance, without initializing it."
   ]
  },
  {
   "cell_type": "markdown",
   "metadata": {},
   "source": [
    "Class Objects Provide Default Behavior:\n",
    "\n",
    "• The class statement creates a class object and assigns it a name.\n",
    "\n",
    "• Assignments inside class statements make class attributes.\n",
    "\n",
    "• Class attributes provide object state and behavior.\n",
    "\n",
    "\n",
    "Instance Objects Are Concrete Items:\n",
    "\n",
    "• Calling a class object like a function makes a new instance object.\n",
    "\n",
    "• Each instance object inherits class attributes and gets its own namespace.\n",
    "\n",
    "• Assignments to attributes of self in methods make per-instance attributes."
   ]
  },
  {
   "cell_type": "markdown",
   "metadata": {},
   "source": [
    "Like all compound statements, the class starts with a header line that lists the class\n",
    "name, followed by a body of one or more nested and (usually) indented statements.\n",
    "Here, the nested statements are defs; they define functions that implement the behavior\n",
    "the class means to export.\n",
    "\n",
    "def is really an assignment. Here, it assigns function objects\n",
    "to the names setdata and display in the class statement’s scope, and so generates\n",
    "attributes attached to the class—FirstClass.setdata and FirstClass.display. In fact,\n",
    "any name assigned at the top level of the class’s nested block becomes an attribute of\n",
    "the class."
   ]
  },
  {
   "cell_type": "code",
   "execution_count": 36,
   "metadata": {
    "collapsed": true
   },
   "outputs": [],
   "source": [
    "class FirstClass:              # Define a class object\n",
    "    def setdata(self, value):   # Define class's methods\n",
    "        self.data = value       # self is the instance\n",
    "    def display(self):\n",
    "        print(self.data)        # self.data: per instance"
   ]
  },
  {
   "cell_type": "markdown",
   "metadata": {},
   "source": [
    "Functions inside a class are usually called methods. They’re coded with normal defs,\n",
    "and they support everything we’ve learned about functions already (they can have defaults,\n",
    "return values, yield items on request, and so on). But in a method function, the\n",
    "first argument automatically receives an implied instance object when called—the subject\n",
    "of the call. We need to create a couple of instances to see how this works:"
   ]
  },
  {
   "cell_type": "code",
   "execution_count": 37,
   "metadata": {},
   "outputs": [],
   "source": [
    "x = FirstClass() # Make two instances\n",
    "y = FirstClass() # Each is a new namespace"
   ]
  },
  {
   "cell_type": "code",
   "execution_count": 38,
   "metadata": {
    "collapsed": true
   },
   "outputs": [],
   "source": [
    "x.setdata(\"King Arthur\") # Call methods: self is x\n",
    "y.setdata(3.14159) # Runs: FirstClass.setdata(y, 3.14159)"
   ]
  },
  {
   "cell_type": "code",
   "execution_count": 39,
   "metadata": {},
   "outputs": [
    {
     "name": "stdout",
     "output_type": "stream",
     "text": [
      "King Arthur\n"
     ]
    }
   ],
   "source": [
    "x.display() # self.data differs in each instance"
   ]
  },
  {
   "cell_type": "code",
   "execution_count": 40,
   "metadata": {},
   "outputs": [
    {
     "name": "stdout",
     "output_type": "stream",
     "text": [
      "3.14159\n"
     ]
    }
   ],
   "source": [
    "y.display() # Runs: FirstClass.display(y)"
   ]
  },
  {
   "cell_type": "markdown",
   "metadata": {},
   "source": [
    "Notice that we stored different object types in the data member in each instance—a\n",
    "string and a floating-point number. As with everything else in Python, there are no\n",
    "declarations for instance attributes (sometimes called members); they spring into existence\n",
    "the first time they are assigned values, just like simple variables. In fact, if we were\n",
    " to call display on one of our instances before calling setdata, we would trigger an\n",
    "undefined name error—the attribute named data doesn’t even exist in memory until it\n",
    "is assigned within the setdata method."
   ]
  },
  {
   "cell_type": "code",
   "execution_count": 55,
   "metadata": {},
   "outputs": [
    {
     "name": "stdout",
     "output_type": "stream",
     "text": [
      "New value\n"
     ]
    }
   ],
   "source": [
    "# Or by assigning to self in methods, or outside the class, by assigning to an explicit instance object:\n",
    "\n",
    "x.data = \"New value\" # Can get/set attributes\n",
    "\n",
    "x.display() # Outside the class too"
   ]
  },
  {
   "cell_type": "markdown",
   "metadata": {},
   "source": [
    "Classes Are Customized by Inheritance:\n",
    "\n",
    "• Superclasses are listed in parentheses in a class header.\n",
    "\n",
    "• Classes inherit attributes from their superclasses.\n",
    "\n",
    "• Instances inherit attributes from all accessible classes.\n",
    "\n",
    "• Each object.attribute reference invokes a new, independent search.\n",
    "\n",
    "• Logic changes are made by subclassing, not by changing superclasses."
   ]
  },
  {
   "cell_type": "code",
   "execution_count": 43,
   "metadata": {},
   "outputs": [],
   "source": [
    "class SecondClass(FirstClass):       # Inherits setdata\n",
    "    def display(self):               # Changes display\n",
    "        print('Current value: \"%s\"' %self.data)"
   ]
  },
  {
   "cell_type": "code",
   "execution_count": 45,
   "metadata": {},
   "outputs": [],
   "source": [
    "z = SecondClass()"
   ]
  },
  {
   "cell_type": "code",
   "execution_count": 46,
   "metadata": {
    "collapsed": true
   },
   "outputs": [],
   "source": [
    "z.setdata(42)   # Finds setdata in FirstClass"
   ]
  },
  {
   "cell_type": "code",
   "execution_count": 47,
   "metadata": {},
   "outputs": [
    {
     "name": "stdout",
     "output_type": "stream",
     "text": [
      "Current value: \"42\"\n"
     ]
    }
   ],
   "source": [
    "z.display() # Finds overridden method in SecondClass"
   ]
  },
  {
   "cell_type": "markdown",
   "metadata": {},
   "source": [
    "Classes Are Attributes in Modules:\n",
    "\n",
    "For instance, if our FirstClass were coded in\n",
    "a module file instead of being typed interactively, we could import it and use its name\n",
    "normally in a class header line:"
   ]
  },
  {
   "cell_type": "code",
   "execution_count": null,
   "metadata": {
    "collapsed": true
   },
   "outputs": [],
   "source": [
    "from modulename import FirstClass # Copy name into my scope\n",
    "class SecondClass(FirstClass): # Use class name directly\n",
    "    def display(self): ...\n",
    "\n",
    "Or, equivalently:\n",
    "    \n",
    "import modulename # Access the whole module\n",
    "class SecondClass(modulename.FirstClass): # Qualify to reference\n",
    "    def display(self): ..."
   ]
  },
  {
   "cell_type": "markdown",
   "metadata": {},
   "source": [
    "Classes Can Intercept Python Operators:\n",
    "\n",
    "• Methods named with double underscores (_ _X_ _) are special hooks.\n",
    "\n",
    "• Such methods are called automatically when instances appear in built-in\n",
    "operations.\n",
    "\n",
    "• Classes may override most built-in type operations.\n",
    "\n",
    "• There are no defaults for operator overloading methods, and none are required.\n",
    "\n",
    "• New-style classes have some defaults, but not for common operations.\n"
   ]
  },
  {
   "cell_type": "markdown",
   "metadata": {},
   "source": [
    "• (_ _init_ _) is run when a new instance object is created: self is the new ThirdClass\n",
    "object.\n",
    "\n",
    "• (_ _add_ _) is run when a ThirdClass instance appears in a + expression.\n",
    "\n",
    "• (_ _str_ _) is run when an object is printed (technically, when it’s converted to its\n",
    "print string by the str built-in function or its Python internals equivalent)."
   ]
  },
  {
   "cell_type": "code",
   "execution_count": 49,
   "metadata": {
    "collapsed": true
   },
   "outputs": [],
   "source": [
    "class ThirdClass(SecondClass): # Inherit from SecondClass\n",
    "    def __init__(self, value): # On \"ThirdClass(value)\"\n",
    "        self.data = value\n",
    "    def __add__(self, other): # On \"self + other\"\n",
    "        return ThirdClass(self.data + other)\n",
    "    def __str__(self): # On \"print(self)\", \"str()\"\n",
    "        return '[ThirdClass: %s]' % self.data\n",
    "    def mul(self, other): # In-place change: named\n",
    "        self.data *= other"
   ]
  },
  {
   "cell_type": "code",
   "execution_count": 50,
   "metadata": {
    "collapsed": true
   },
   "outputs": [],
   "source": [
    "a = ThirdClass('abc') # __init__ called"
   ]
  },
  {
   "cell_type": "code",
   "execution_count": 51,
   "metadata": {},
   "outputs": [
    {
     "name": "stdout",
     "output_type": "stream",
     "text": [
      "Current value: \"abc\"\n"
     ]
    }
   ],
   "source": [
    "a.display() # Inherited method called"
   ]
  },
  {
   "cell_type": "code",
   "execution_count": 52,
   "metadata": {},
   "outputs": [
    {
     "name": "stdout",
     "output_type": "stream",
     "text": [
      "[ThirdClass: abc]\n"
     ]
    }
   ],
   "source": [
    "print(a) # __str__: returns display string"
   ]
  },
  {
   "cell_type": "code",
   "execution_count": 56,
   "metadata": {
    "collapsed": true
   },
   "outputs": [],
   "source": [
    "b = a + 'xyz' # __add__: makes a new instance"
   ]
  },
  {
   "cell_type": "code",
   "execution_count": 57,
   "metadata": {},
   "outputs": [
    {
     "name": "stdout",
     "output_type": "stream",
     "text": [
      "Current value: \"abcxyz\"\n"
     ]
    }
   ],
   "source": [
    "b.display() # b has all ThirdClass methods"
   ]
  },
  {
   "cell_type": "code",
   "execution_count": 58,
   "metadata": {},
   "outputs": [
    {
     "name": "stdout",
     "output_type": "stream",
     "text": [
      "[ThirdClass: abcxyz]\n"
     ]
    }
   ],
   "source": [
    "print(b) # __str__: returns display string"
   ]
  },
  {
   "cell_type": "code",
   "execution_count": 59,
   "metadata": {
    "collapsed": true
   },
   "outputs": [],
   "source": [
    "a.mul(3) # mul: changes instance in place"
   ]
  },
  {
   "cell_type": "code",
   "execution_count": 60,
   "metadata": {},
   "outputs": [
    {
     "name": "stdout",
     "output_type": "stream",
     "text": [
      "[ThirdClass: abcabcabc]\n"
     ]
    }
   ],
   "source": [
    "print(a)"
   ]
  },
  {
   "cell_type": "markdown",
   "metadata": {},
   "source": [
    "ThirdClass “is a” SecondClass, so its instances inherit the customized display method\n",
    "from SecondClass of the preceding section. This time, though, ThirdClass creation calls\n",
    "pass an argument (e.g., “abc”). This argument is passed to the value argument in the\n",
    "__init__ constructor and assigned to self.data there. The net effect is that Third\n",
    "Class arranges to set the data attribute automatically at construction time, instead of\n",
    "requiring setdata calls after the fact."
   ]
  },
  {
   "cell_type": "markdown",
   "metadata": {},
   "source": [
    "Further, ThirdClass objects can now show up in + expressions and print calls. For +,\n",
    "Python passes the instance object on the left to the self argument in __add__ and the\n",
    "value on the right to other,  whatever __add__ returns becomes\n",
    "the result of the + expression.\n",
    "\n",
    "For print, Python passes the object being printed to self in __str__; whatever string\n",
    "this method returns is taken to be the print string for the object. With __str__ (or its\n",
    "more broadly relevant twin __repr__,\n",
    "we can use a normal print to display objects of this class, instead of calling the special\n",
    "display method."
   ]
  },
  {
   "cell_type": "markdown",
   "metadata": {},
   "source": [
    "The World’s Simplest Python Class:"
   ]
  },
  {
   "cell_type": "code",
   "execution_count": 61,
   "metadata": {
    "collapsed": true
   },
   "outputs": [],
   "source": [
    "class rec: pass # Empty namespace object"
   ]
  },
  {
   "cell_type": "markdown",
   "metadata": {},
   "source": [
    "We need the no-operation pass placeholder statement here\n",
    "because we don’t have any methods to code. After we make the class by running this\n",
    "statement interactively, we can start attaching attributes to the class by assigning names\n",
    "to it completely outside of the original class statement:"
   ]
  },
  {
   "cell_type": "code",
   "execution_count": 62,
   "metadata": {
    "collapsed": true
   },
   "outputs": [],
   "source": [
    "rec.name = 'Sam' # Just objects with attributes\n",
    "rec.age = 27"
   ]
  },
  {
   "cell_type": "code",
   "execution_count": 64,
   "metadata": {},
   "outputs": [
    {
     "name": "stdout",
     "output_type": "stream",
     "text": [
      "Sam\n"
     ]
    }
   ],
   "source": [
    "print(rec.name) # Like a C struct or a record"
   ]
  },
  {
   "cell_type": "markdown",
   "metadata": {},
   "source": [
    "Notice that this works even though there are no instances of the class yet; classes are\n",
    "objects in their own right, even without instances. In fact, they are just self-contained\n",
    "namespaces; as long as we have a reference to a class, we can set or change its attributes\n",
    "anytime we wish. Watch what happens when we do create two instances, though:"
   ]
  },
  {
   "cell_type": "code",
   "execution_count": 65,
   "metadata": {
    "collapsed": true
   },
   "outputs": [],
   "source": [
    "x = rec() # Instances inherit class names"
   ]
  },
  {
   "cell_type": "code",
   "execution_count": 66,
   "metadata": {
    "collapsed": true
   },
   "outputs": [],
   "source": [
    "y = rec()"
   ]
  },
  {
   "cell_type": "code",
   "execution_count": 67,
   "metadata": {},
   "outputs": [
    {
     "data": {
      "text/plain": [
       "('Sam', 'Sam')"
      ]
     },
     "execution_count": 67,
     "metadata": {},
     "output_type": "execute_result"
    }
   ],
   "source": [
    "x.name, y.name # name is stored on the class only"
   ]
  },
  {
   "cell_type": "code",
   "execution_count": 68,
   "metadata": {
    "collapsed": true
   },
   "outputs": [],
   "source": [
    "x.name = 'Tuna'"
   ]
  },
  {
   "cell_type": "markdown",
   "metadata": {},
   "source": [
    "If we do assign an attribute to an instance,\n",
    "though, it creates (or changes) the attribute in that object, and no other—crucially,\n",
    "attribute references kick off inheritance searches, but attribute assignments affect only\n",
    "the objects in which the assignments are made."
   ]
  },
  {
   "cell_type": "code",
   "execution_count": 69,
   "metadata": {},
   "outputs": [
    {
     "data": {
      "text/plain": [
       "('Sam', 'Tuna', 'Sam')"
      ]
     },
     "execution_count": 69,
     "metadata": {},
     "output_type": "execute_result"
    }
   ],
   "source": [
    "rec.name, x.name, y.name # But assignment changes x only"
   ]
  },
  {
   "cell_type": "code",
   "execution_count": 70,
   "metadata": {},
   "outputs": [
    {
     "data": {
      "text/plain": [
       "['__module__', '__dict__', '__weakref__', '__doc__', 'name', 'age']"
      ]
     },
     "execution_count": 70,
     "metadata": {},
     "output_type": "execute_result"
    }
   ],
   "source": [
    "list(rec.__dict__.keys())"
   ]
  },
  {
   "cell_type": "code",
   "execution_count": 71,
   "metadata": {},
   "outputs": [
    {
     "data": {
      "text/plain": [
       "['name', 'age']"
      ]
     },
     "execution_count": 71,
     "metadata": {},
     "output_type": "execute_result"
    }
   ],
   "source": [
    "list(name for name in rec.__dict__ if not name.startswith('__'))"
   ]
  },
  {
   "cell_type": "code",
   "execution_count": 72,
   "metadata": {},
   "outputs": [
    {
     "data": {
      "text/plain": [
       "['name']"
      ]
     },
     "execution_count": 72,
     "metadata": {},
     "output_type": "execute_result"
    }
   ],
   "source": [
    "list(x.__dict__.keys())"
   ]
  },
  {
   "cell_type": "code",
   "execution_count": 73,
   "metadata": {},
   "outputs": [
    {
     "data": {
      "text/plain": [
       "[]"
      ]
     },
     "execution_count": 73,
     "metadata": {},
     "output_type": "execute_result"
    }
   ],
   "source": [
    "list(y.__dict__.keys())"
   ]
  },
  {
   "cell_type": "code",
   "execution_count": 74,
   "metadata": {},
   "outputs": [
    {
     "data": {
      "text/plain": [
       "('Tuna', 'Tuna')"
      ]
     },
     "execution_count": 74,
     "metadata": {},
     "output_type": "execute_result"
    }
   ],
   "source": [
    "x.name, x.__dict__['name'] # Attributes present here are dict keys"
   ]
  },
  {
   "cell_type": "code",
   "execution_count": 75,
   "metadata": {},
   "outputs": [
    {
     "data": {
      "text/plain": [
       "27"
      ]
     },
     "execution_count": 75,
     "metadata": {},
     "output_type": "execute_result"
    }
   ],
   "source": [
    "x.age # But attribute fetch checks classes too"
   ]
  },
  {
   "cell_type": "code",
   "execution_count": 76,
   "metadata": {},
   "outputs": [
    {
     "ename": "KeyError",
     "evalue": "'age'",
     "output_type": "error",
     "traceback": [
      "\u001b[1;31m---------------------------------------------------------------------------\u001b[0m",
      "\u001b[1;31mKeyError\u001b[0m                                  Traceback (most recent call last)",
      "\u001b[1;32m<ipython-input-76-4be5e2c99a01>\u001b[0m in \u001b[0;36m<module>\u001b[1;34m()\u001b[0m\n\u001b[1;32m----> 1\u001b[1;33m \u001b[0mx\u001b[0m\u001b[1;33m.\u001b[0m\u001b[0m__dict__\u001b[0m\u001b[1;33m[\u001b[0m\u001b[1;34m'age'\u001b[0m\u001b[1;33m]\u001b[0m \u001b[1;31m# Indexing dict does not do inheritance\u001b[0m\u001b[1;33m\u001b[0m\u001b[0m\n\u001b[0m",
      "\u001b[1;31mKeyError\u001b[0m: 'age'"
     ]
    }
   ],
   "source": [
    "x.__dict__['age'] # Indexing dict does not do inheritance"
   ]
  },
  {
   "cell_type": "code",
   "execution_count": 77,
   "metadata": {},
   "outputs": [
    {
     "data": {
      "text/plain": [
       "__main__.rec"
      ]
     },
     "execution_count": 77,
     "metadata": {},
     "output_type": "execute_result"
    }
   ],
   "source": [
    "x.__class__ # Instance to class link"
   ]
  },
  {
   "cell_type": "code",
   "execution_count": 78,
   "metadata": {},
   "outputs": [
    {
     "data": {
      "text/plain": [
       "(object,)"
      ]
     },
     "execution_count": 78,
     "metadata": {},
     "output_type": "execute_result"
    }
   ],
   "source": [
    "rec.__bases__ # Class to superclasses link, () in 2.X"
   ]
  },
  {
   "cell_type": "markdown",
   "metadata": {},
   "source": [
    "Even methods, normally created by a def nested in a class, can be created completely\n",
    "independently of any class object. The following, for example, defines a simple function\n",
    "outside of any class that takes one argument:"
   ]
  },
  {
   "cell_type": "code",
   "execution_count": 79,
   "metadata": {
    "collapsed": true
   },
   "outputs": [],
   "source": [
    "def uppername(obj): # Still needs a self argument (obj)\n",
    "    return obj.name.upper()"
   ]
  },
  {
   "cell_type": "code",
   "execution_count": 80,
   "metadata": {},
   "outputs": [
    {
     "data": {
      "text/plain": [
       "'TUNA'"
      ]
     },
     "execution_count": 80,
     "metadata": {},
     "output_type": "execute_result"
    }
   ],
   "source": [
    "uppername(x) # Call as a simple function"
   ]
  },
  {
   "cell_type": "markdown",
   "metadata": {},
   "source": [
    "If we assign this simple function to an attribute of our class, though, it becomes a\n",
    "method, callable through any instance, as well as through the class name itself as long\n",
    "as we pass in an instance manually—a technique we’ll leverage further in the next\n",
    "chapter:"
   ]
  },
  {
   "cell_type": "code",
   "execution_count": 81,
   "metadata": {
    "collapsed": true
   },
   "outputs": [],
   "source": [
    "rec.method = uppername # Now it's a class's method!"
   ]
  },
  {
   "cell_type": "code",
   "execution_count": 82,
   "metadata": {},
   "outputs": [
    {
     "data": {
      "text/plain": [
       "'TUNA'"
      ]
     },
     "execution_count": 82,
     "metadata": {},
     "output_type": "execute_result"
    }
   ],
   "source": [
    "x.method() # Run method to process x"
   ]
  },
  {
   "cell_type": "code",
   "execution_count": 83,
   "metadata": {},
   "outputs": [
    {
     "data": {
      "text/plain": [
       "'SAM'"
      ]
     },
     "execution_count": 83,
     "metadata": {},
     "output_type": "execute_result"
    }
   ],
   "source": [
    "y.method() # Same, but pass y to self"
   ]
  },
  {
   "cell_type": "code",
   "execution_count": 84,
   "metadata": {},
   "outputs": [
    {
     "data": {
      "text/plain": [
       "'TUNA'"
      ]
     },
     "execution_count": 84,
     "metadata": {},
     "output_type": "execute_result"
    }
   ],
   "source": [
    "rec.method(x) # Can call through instance or class"
   ]
  },
  {
   "cell_type": "markdown",
   "metadata": {},
   "source": [
    "Records Revisited: Classes Versus Dictionaries:\n",
    "\n",
    "It turns out that classes can often\n",
    "serve better in this role—they package information like dictionaries, but can also bundle\n",
    "processing logic in the form of methods. For reference, here is an example for tupleand\n",
    "dictionary-based records"
   ]
  },
  {
   "cell_type": "code",
   "execution_count": 85,
   "metadata": {
    "collapsed": true
   },
   "outputs": [],
   "source": [
    "rec = ('Bob', 40.5, ['dev', 'mgr']) # Tuple-based record"
   ]
  },
  {
   "cell_type": "code",
   "execution_count": 86,
   "metadata": {},
   "outputs": [
    {
     "name": "stdout",
     "output_type": "stream",
     "text": [
      "Bob\n"
     ]
    }
   ],
   "source": [
    "print(rec[0])"
   ]
  },
  {
   "cell_type": "code",
   "execution_count": 87,
   "metadata": {
    "collapsed": true
   },
   "outputs": [],
   "source": [
    "rec = {} # Dictionary-based record"
   ]
  },
  {
   "cell_type": "code",
   "execution_count": 88,
   "metadata": {
    "collapsed": true
   },
   "outputs": [],
   "source": [
    "rec['name'] = 'Bob'"
   ]
  },
  {
   "cell_type": "code",
   "execution_count": 89,
   "metadata": {
    "collapsed": true
   },
   "outputs": [],
   "source": [
    "rec['age'] = 40.5"
   ]
  },
  {
   "cell_type": "code",
   "execution_count": 90,
   "metadata": {
    "collapsed": true
   },
   "outputs": [],
   "source": [
    "rec['jobs'] = ['dev', 'mgr']"
   ]
  },
  {
   "cell_type": "code",
   "execution_count": 91,
   "metadata": {},
   "outputs": [
    {
     "name": "stdout",
     "output_type": "stream",
     "text": [
      "Bob\n"
     ]
    }
   ],
   "source": [
    "print(rec['name'])"
   ]
  },
  {
   "cell_type": "markdown",
   "metadata": {},
   "source": [
    "This code emulates tools like records in other languages. As we just saw, though, there\n",
    "are also multiple ways to do the same with classes. Perhaps the simplest is this—trading\n",
    "keys for attributes:"
   ]
  },
  {
   "cell_type": "code",
   "execution_count": 92,
   "metadata": {
    "collapsed": true
   },
   "outputs": [],
   "source": [
    "class rec: pass"
   ]
  },
  {
   "cell_type": "code",
   "execution_count": 93,
   "metadata": {
    "collapsed": true
   },
   "outputs": [],
   "source": [
    "rec.name = 'Bob' # Class-based record"
   ]
  },
  {
   "cell_type": "code",
   "execution_count": 94,
   "metadata": {
    "collapsed": true
   },
   "outputs": [],
   "source": [
    "rec.age = 40.5"
   ]
  },
  {
   "cell_type": "code",
   "execution_count": 95,
   "metadata": {
    "collapsed": true
   },
   "outputs": [],
   "source": [
    "rec.jobs = ['dev', 'mgr']"
   ]
  },
  {
   "cell_type": "code",
   "execution_count": 96,
   "metadata": {},
   "outputs": [
    {
     "name": "stdout",
     "output_type": "stream",
     "text": [
      "Bob\n"
     ]
    }
   ],
   "source": [
    "print(rec.name)"
   ]
  },
  {
   "cell_type": "code",
   "execution_count": 97,
   "metadata": {
    "collapsed": true
   },
   "outputs": [],
   "source": [
    "class rec: pass"
   ]
  },
  {
   "cell_type": "code",
   "execution_count": 98,
   "metadata": {
    "collapsed": true
   },
   "outputs": [],
   "source": [
    "pers1 = rec() # Instance-based records"
   ]
  },
  {
   "cell_type": "code",
   "execution_count": 99,
   "metadata": {
    "collapsed": true
   },
   "outputs": [],
   "source": [
    "pers1.name = 'Bob'"
   ]
  },
  {
   "cell_type": "code",
   "execution_count": 100,
   "metadata": {
    "collapsed": true
   },
   "outputs": [],
   "source": [
    "pers1.jobs = ['dev', 'mgr']"
   ]
  },
  {
   "cell_type": "code",
   "execution_count": 101,
   "metadata": {
    "collapsed": true
   },
   "outputs": [],
   "source": [
    "pers1.age = 40.5"
   ]
  },
  {
   "cell_type": "code",
   "execution_count": 102,
   "metadata": {
    "collapsed": true
   },
   "outputs": [],
   "source": [
    "pers2 = rec()"
   ]
  },
  {
   "cell_type": "code",
   "execution_count": 103,
   "metadata": {
    "collapsed": true
   },
   "outputs": [],
   "source": [
    "pers2.name = 'Sue'"
   ]
  },
  {
   "cell_type": "code",
   "execution_count": 104,
   "metadata": {
    "collapsed": true
   },
   "outputs": [],
   "source": [
    "pers2.jobs = ['dev', 'cto']"
   ]
  },
  {
   "cell_type": "code",
   "execution_count": 105,
   "metadata": {},
   "outputs": [
    {
     "data": {
      "text/plain": [
       "('Bob', 'Sue')"
      ]
     },
     "execution_count": 105,
     "metadata": {},
     "output_type": "execute_result"
    }
   ],
   "source": [
    "pers1.name, pers2.name"
   ]
  },
  {
   "cell_type": "markdown",
   "metadata": {},
   "source": [
    "Finally, we might instead code a more full-blown class to implement the record and its\n",
    "processing—something that data-oriented dictionaries do not directly support:"
   ]
  },
  {
   "cell_type": "code",
   "execution_count": 108,
   "metadata": {
    "collapsed": true
   },
   "outputs": [],
   "source": [
    "class Person:\n",
    "    def __init__(self, name, jobs, age=None):   # class = data + logic\n",
    "        self.name = name\n",
    "        self.jobs = jobs\n",
    "        self.age = age\n",
    "    def info(self):\n",
    "        return (self.name, self.jobs)"
   ]
  },
  {
   "cell_type": "code",
   "execution_count": 109,
   "metadata": {},
   "outputs": [],
   "source": [
    "rec1 = Person('Bob', ['dev', 'mgr'], 40.5) # Construction calls"
   ]
  },
  {
   "cell_type": "code",
   "execution_count": 110,
   "metadata": {
    "collapsed": true
   },
   "outputs": [],
   "source": [
    "rec2 = Person('Sue', ['dev', 'cto'])"
   ]
  },
  {
   "cell_type": "code",
   "execution_count": 111,
   "metadata": {},
   "outputs": [
    {
     "data": {
      "text/plain": [
       "(['dev', 'mgr'], ('Sue', ['dev', 'cto']))"
      ]
     },
     "execution_count": 111,
     "metadata": {},
     "output_type": "execute_result"
    }
   ],
   "source": [
    "rec1.jobs, rec2.info() # Attributes + methods"
   ]
  },
  {
   "cell_type": "code",
   "execution_count": null,
   "metadata": {
    "collapsed": true
   },
   "outputs": [],
   "source": []
  }
 ],
 "metadata": {
  "kernelspec": {
   "display_name": "Python 3",
   "language": "python",
   "name": "python3"
  },
  "language_info": {
   "codemirror_mode": {
    "name": "ipython",
    "version": 3
   },
   "file_extension": ".py",
   "mimetype": "text/x-python",
   "name": "python",
   "nbconvert_exporter": "python",
   "pygments_lexer": "ipython3",
   "version": "3.6.1"
  }
 },
 "nbformat": 4,
 "nbformat_minor": 2
}
