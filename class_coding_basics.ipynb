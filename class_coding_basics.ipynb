{
 "cells": [
  {
   "cell_type": "markdown",
   "metadata": {},
   "source": [
    "In Python, classes are created with a new statement: the class."
   ]
  },
  {
   "cell_type": "markdown",
   "metadata": {},
   "source": [
    "As you’ll see, the objects\n",
    "defined with classes can look a lot like the built-in types.\n",
    "In fact, classes really just apply and extend the ideas we’ve already covered; roughly,\n",
    "they are packages of functions that use and process built-in object types. Classes,\n",
    "though, are designed to create and manage new objects, and support inheritance—a\n",
    "mechanism of code customization and reuse above and beyond anything we’ve seen\n",
    "so far."
   ]
  },
  {
   "cell_type": "markdown",
   "metadata": {},
   "source": [
    "One note up front: in Python, OOP is entirely optional, and you don’t need to use\n",
    "classes just to get started. You can get plenty of work done with simpler constructs such\n",
    "as functions, or even simple top-level script code. Because using classes well requires\n",
    "some up-front planning, they tend to be of more interest to people who work in strategic\n",
    "mode (doing long-term product development) than to people who work in tactical\n",
    "mode (where time is in very short supply)."
   ]
  },
  {
   "cell_type": "markdown",
   "metadata": {},
   "source": [
    "Notice that in the Python object model, classes and\n",
    "the instances you generate from them are two distinct object types:"
   ]
  },
  {
   "cell_type": "markdown",
   "metadata": {},
   "source": [
    "Classes:\n",
    "\n",
    "Serve as instance factories. Their attributes provide behavior—data and functions\n",
    "—that is inherited by all the instances generated from them (e.g., a function to\n",
    "compute an employee’s salary from pay and hours)."
   ]
  },
  {
   "cell_type": "markdown",
   "metadata": {},
   "source": [
    "Instances:\n",
    "    \n",
    "Represent the concrete items in a program’s domain. Their attributes record data\n",
    "that varies per specific object (e.g., an employee’s Social Security number)."
   ]
  },
  {
   "cell_type": "markdown",
   "metadata": {},
   "source": [
    "The primary difference between classes and instances is that classes are a kind of factory\n",
    "for generating instances. For example, in a realistic application, we might have an\n",
    "Employee class that defines what it means to be an employee; from that class, we generate\n",
    "actual Employee instances. This is another difference between classes and modules—\n",
    "we only ever have one instance of a given module in memory (that’s why we have to\n",
    "reload a module to get its new code), but with classes, we can make as many instances\n",
    "as we need."
   ]
  },
  {
   "cell_type": "markdown",
   "metadata": {},
   "source": [
    "Coding Class Trees:\n",
    "\n",
    "• Each class statement generates a new class object.\n",
    "\n",
    "• Each time a class is called, it generates a new instance object.\n",
    "\n",
    "• Instances are automatically linked to the classes from which they are created.\n",
    "\n",
    "• Classes are automatically linked to their superclasses according to the way we list\n",
    "them in parentheses in a class header line; the left-to-right order there gives the\n",
    "order in the tree.\n",
    "    \n",
    "    "
   ]
  },
  {
   "cell_type": "markdown",
   "metadata": {},
   "source": [
    "Because of the way inheritance searches proceed, the object to which you attach an\n",
    "attribute turns out to be crucial—it determines the name’s scope. Attributes attached\n",
    "to instances pertain only to those single instances, but attributes attached to classes are\n",
    "shared by all their subclasses and instances.\n",
    "\n",
    "• Attributes are usually attached to classes by assignments made at the top level in\n",
    "class statement blocks, and not nested inside function def statements there.\n",
    "\n",
    "• Attributes are usually attached to instances by assignments to the special argument\n",
    "passed to functions coded inside classes, called self.\n",
    "\n"
   ]
  },
  {
   "cell_type": "code",
   "execution_count": 4,
   "metadata": {
    "collapsed": true
   },
   "outputs": [],
   "source": [
    "class C2: ... # Make superclass objects"
   ]
  },
  {
   "cell_type": "code",
   "execution_count": 5,
   "metadata": {
    "collapsed": true
   },
   "outputs": [],
   "source": [
    "class C3: ..."
   ]
  },
  {
   "cell_type": "code",
   "execution_count": 6,
   "metadata": {
    "collapsed": true
   },
   "outputs": [],
   "source": [
    "class C1(C2, C3):              # Make and link class C1\n",
    "    def setname(self, who):    # Assign name: C1.setname\n",
    "        self.name = who        # Self is either I1 or I2"
   ]
  },
  {
   "cell_type": "code",
   "execution_count": 7,
   "metadata": {
    "collapsed": true
   },
   "outputs": [],
   "source": [
    "i1 = C1()   # Make two instances\n",
    "\n",
    "i2 = C1()"
   ]
  },
  {
   "cell_type": "code",
   "execution_count": 8,
   "metadata": {
    "collapsed": true
   },
   "outputs": [],
   "source": [
    "i1.setname('sam')"
   ]
  },
  {
   "cell_type": "code",
   "execution_count": 9,
   "metadata": {
    "collapsed": true
   },
   "outputs": [],
   "source": [
    "i2.setname('tony')"
   ]
  },
  {
   "cell_type": "code",
   "execution_count": 10,
   "metadata": {},
   "outputs": [
    {
     "name": "stdout",
     "output_type": "stream",
     "text": [
      "sam\n"
     ]
    }
   ],
   "source": [
    "print(i1.name)"
   ]
  },
  {
   "cell_type": "markdown",
   "metadata": {},
   "source": [
    "Operationally,\n",
    "when a def appears inside a class like this, it is usually known as a method, and it\n",
    "automatically receives a special first argument—called self by convention—that provides\n",
    "a handle back to the instance to be processed. Any values you pass to the method\n",
    "yourself go to arguments after self (here, to who)."
   ]
  },
  {
   "cell_type": "markdown",
   "metadata": {},
   "source": [
    "Because classes are factories for multiple instances, their methods usually go through\n",
    "this automatically passed-in self argument whenever they need to fetch or set attributes\n",
    "of the particular instance being processed by a method call. In the preceding code,\n",
    "self is used to store a name in one of two instances."
   ]
  },
  {
   "cell_type": "markdown",
   "metadata": {},
   "source": [
    "Operator Overloading:\n",
    "\n",
    "As currently coded, our C1 class doesn’t attach a name attribute to an instance until the\n",
    "setname method is called. Indeed, referencing I1.name before calling I1.setname would\n",
    "produce an undefined name error. If a class wants to guarantee that an attribute like\n",
    "name is always set in its instances, it more typically will fill out the attribute at construction\n",
    "time, like this:"
   ]
  },
  {
   "cell_type": "code",
   "execution_count": 11,
   "metadata": {
    "collapsed": true
   },
   "outputs": [],
   "source": [
    "class C2: ... # Make superclass objects"
   ]
  },
  {
   "cell_type": "code",
   "execution_count": 13,
   "metadata": {
    "collapsed": true
   },
   "outputs": [],
   "source": [
    "class C3: ..."
   ]
  },
  {
   "cell_type": "code",
   "execution_count": 15,
   "metadata": {},
   "outputs": [
    {
     "name": "stdout",
     "output_type": "stream",
     "text": [
      "bob\n"
     ]
    }
   ],
   "source": [
    "class C1(C2, C3):\n",
    "    def __init__(self, who): # Set name when constructed\n",
    "        self.name = who # Self is either I1 or I2\n",
    "    \n",
    "I1 = C1('bob') # Sets I1.name to 'bob'\n",
    "I2 = C1('sue') # Sets I2.name to 'sue'\n",
    "print(I1.name) # Prints 'bob'"
   ]
  },
  {
   "cell_type": "markdown",
   "metadata": {},
   "source": [
    "If it’s coded or inherited, Python automatically calls a method named __init__ each\n",
    "time an instance is generated from a class. The new instance is passed in to the self\n",
    "argument of __init__ as usual, and any values listed in parentheses in the class call go\n",
    "to arguments two and beyond. The effect here is to initialize instances when they are\n",
    "made, without requiring extra method calls.\n",
    "\n",
    "The __init__ method is known as the constructor because of when it is run. It’s the\n",
    "most commonly used representative of a larger class of methods called operator overloading\n",
    "methods. Such\n",
    "methods are inherited in class trees as usual and have double underscores at the start\n",
    "and end of their names to make them distinct. Python runs them automatically when\n",
    "instances that support them appear in the corresponding operations, and they are\n",
    "mostly an alternative to using simple method calls. They’re also optional: if omitted,\n",
    "the operations are not supported. If no __init__ is present, class calls return an empty\n",
    "instance, without initializing it."
   ]
  },
  {
   "cell_type": "markdown",
   "metadata": {},
   "source": [
    "Class Objects Provide Default Behavior:\n",
    "\n",
    "• The class statement creates a class object and assigns it a name.\n",
    "\n",
    "• Assignments inside class statements make class attributes.\n",
    "\n",
    "• Class attributes provide object state and behavior.\n",
    "\n",
    "\n",
    "Instance Objects Are Concrete Items:\n",
    "\n",
    "• Calling a class object like a function makes a new instance object.\n",
    "\n",
    "• Each instance object inherits class attributes and gets its own namespace.\n",
    "\n",
    "• Assignments to attributes of self in methods make per-instance attributes."
   ]
  },
  {
   "cell_type": "markdown",
   "metadata": {},
   "source": [
    "Like all compound statements, the class starts with a header line that lists the class\n",
    "name, followed by a body of one or more nested and (usually) indented statements.\n",
    "Here, the nested statements are defs; they define functions that implement the behavior\n",
    "the class means to export.\n",
    "\n",
    "def is really an assignment. Here, it assigns function objects\n",
    "to the names setdata and display in the class statement’s scope, and so generates\n",
    "attributes attached to the class—FirstClass.setdata and FirstClass.display. In fact,\n",
    "any name assigned at the top level of the class’s nested block becomes an attribute of\n",
    "the class."
   ]
  },
  {
   "cell_type": "code",
   "execution_count": 36,
   "metadata": {
    "collapsed": true
   },
   "outputs": [],
   "source": [
    "class FirstClass:              # Define a class object\n",
    "    def setdata(self, value):   # Define class's methods\n",
    "        self.data = value       # self is the instance\n",
    "    def display(self):\n",
    "        print(self.data)        # self.data: per instance"
   ]
  },
  {
   "cell_type": "markdown",
   "metadata": {},
   "source": [
    "Functions inside a class are usually called methods. They’re coded with normal defs,\n",
    "and they support everything we’ve learned about functions already (they can have defaults,\n",
    "return values, yield items on request, and so on). But in a method function, the\n",
    "first argument automatically receives an implied instance object when called—the subject\n",
    "of the call. We need to create a couple of instances to see how this works:"
   ]
  },
  {
   "cell_type": "code",
   "execution_count": 37,
   "metadata": {},
   "outputs": [],
   "source": [
    "x = FirstClass() # Make two instances\n",
    "y = FirstClass() # Each is a new namespace"
   ]
  },
  {
   "cell_type": "code",
   "execution_count": 38,
   "metadata": {
    "collapsed": true
   },
   "outputs": [],
   "source": [
    "x.setdata(\"King Arthur\") # Call methods: self is x\n",
    "y.setdata(3.14159) # Runs: FirstClass.setdata(y, 3.14159)"
   ]
  },
  {
   "cell_type": "code",
   "execution_count": 39,
   "metadata": {},
   "outputs": [
    {
     "name": "stdout",
     "output_type": "stream",
     "text": [
      "King Arthur\n"
     ]
    }
   ],
   "source": [
    "x.display() # self.data differs in each instance"
   ]
  },
  {
   "cell_type": "code",
   "execution_count": 40,
   "metadata": {},
   "outputs": [
    {
     "name": "stdout",
     "output_type": "stream",
     "text": [
      "3.14159\n"
     ]
    }
   ],
   "source": [
    "y.display() # Runs: FirstClass.display(y)"
   ]
  },
  {
   "cell_type": "markdown",
   "metadata": {},
   "source": [
    "Notice that we stored different object types in the data member in each instance—a\n",
    "string and a floating-point number. As with everything else in Python, there are no\n",
    "declarations for instance attributes (sometimes called members); they spring into existence\n",
    "the first time they are assigned values, just like simple variables. In fact, if we were\n",
    " to call display on one of our instances before calling setdata, we would trigger an\n",
    "undefined name error—the attribute named data doesn’t even exist in memory until it\n",
    "is assigned within the setdata method."
   ]
  },
  {
   "cell_type": "code",
   "execution_count": 55,
   "metadata": {},
   "outputs": [
    {
     "name": "stdout",
     "output_type": "stream",
     "text": [
      "New value\n"
     ]
    }
   ],
   "source": [
    "# Or by assigning to self in methods, or outside the class, by assigning to an explicit instance object:\n",
    "\n",
    "x.data = \"New value\" # Can get/set attributes\n",
    "\n",
    "x.display() # Outside the class too"
   ]
  },
  {
   "cell_type": "markdown",
   "metadata": {},
   "source": [
    "Classes Are Customized by Inheritance:\n",
    "\n",
    "• Superclasses are listed in parentheses in a class header.\n",
    "\n",
    "• Classes inherit attributes from their superclasses.\n",
    "\n",
    "• Instances inherit attributes from all accessible classes.\n",
    "\n",
    "• Each object.attribute reference invokes a new, independent search.\n",
    "\n",
    "• Logic changes are made by subclassing, not by changing superclasses."
   ]
  },
  {
   "cell_type": "code",
   "execution_count": 43,
   "metadata": {},
   "outputs": [],
   "source": [
    "class SecondClass(FirstClass):       # Inherits setdata\n",
    "    def display(self):               # Changes display\n",
    "        print('Current value: \"%s\"' %self.data)"
   ]
  },
  {
   "cell_type": "code",
   "execution_count": 45,
   "metadata": {},
   "outputs": [],
   "source": [
    "z = SecondClass()"
   ]
  },
  {
   "cell_type": "code",
   "execution_count": 46,
   "metadata": {
    "collapsed": true
   },
   "outputs": [],
   "source": [
    "z.setdata(42)   # Finds setdata in FirstClass"
   ]
  },
  {
   "cell_type": "code",
   "execution_count": 47,
   "metadata": {},
   "outputs": [
    {
     "name": "stdout",
     "output_type": "stream",
     "text": [
      "Current value: \"42\"\n"
     ]
    }
   ],
   "source": [
    "z.display() # Finds overridden method in SecondClass"
   ]
  },
  {
   "cell_type": "markdown",
   "metadata": {},
   "source": [
    "Classes Are Attributes in Modules:\n",
    "\n",
    "For instance, if our FirstClass were coded in\n",
    "a module file instead of being typed interactively, we could import it and use its name\n",
    "normally in a class header line:"
   ]
  },
  {
   "cell_type": "code",
   "execution_count": null,
   "metadata": {
    "collapsed": true
   },
   "outputs": [],
   "source": [
    "from modulename import FirstClass # Copy name into my scope\n",
    "class SecondClass(FirstClass): # Use class name directly\n",
    "    def display(self): ...\n",
    "\n",
    "Or, equivalently:\n",
    "    \n",
    "import modulename # Access the whole module\n",
    "class SecondClass(modulename.FirstClass): # Qualify to reference\n",
    "    def display(self): ..."
   ]
  },
  {
   "cell_type": "markdown",
   "metadata": {},
   "source": [
    "Classes Can Intercept Python Operators:\n",
    "\n",
    "• Methods named with double underscores (_ _X_ _) are special hooks.\n",
    "\n",
    "• Such methods are called automatically when instances appear in built-in\n",
    "operations.\n",
    "\n",
    "• Classes may override most built-in type operations.\n",
    "\n",
    "• There are no defaults for operator overloading methods, and none are required.\n",
    "\n",
    "• New-style classes have some defaults, but not for common operations.\n"
   ]
  },
  {
   "cell_type": "markdown",
   "metadata": {},
   "source": [
    "• (_ _init_ _) is run when a new instance object is created: self is the new ThirdClass\n",
    "object.\n",
    "\n",
    "• (_ _add_ _) is run when a ThirdClass instance appears in a + expression.\n",
    "\n",
    "• (_ _str_ _) is run when an object is printed (technically, when it’s converted to its\n",
    "print string by the str built-in function or its Python internals equivalent)."
   ]
  },
  {
   "cell_type": "code",
   "execution_count": 49,
   "metadata": {
    "collapsed": true
   },
   "outputs": [],
   "source": [
    "class ThirdClass(SecondClass): # Inherit from SecondClass\n",
    "    def __init__(self, value): # On \"ThirdClass(value)\"\n",
    "        self.data = value\n",
    "    def __add__(self, other): # On \"self + other\"\n",
    "        return ThirdClass(self.data + other)\n",
    "    def __str__(self): # On \"print(self)\", \"str()\"\n",
    "        return '[ThirdClass: %s]' % self.data\n",
    "    def mul(self, other): # In-place change: named\n",
    "        self.data *= other"
   ]
  },
  {
   "cell_type": "code",
   "execution_count": 50,
   "metadata": {
    "collapsed": true
   },
   "outputs": [],
   "source": [
    "a = ThirdClass('abc') # __init__ called"
   ]
  },
  {
   "cell_type": "code",
   "execution_count": 51,
   "metadata": {},
   "outputs": [
    {
     "name": "stdout",
     "output_type": "stream",
     "text": [
      "Current value: \"abc\"\n"
     ]
    }
   ],
   "source": [
    "a.display() # Inherited method called"
   ]
  },
  {
   "cell_type": "code",
   "execution_count": 52,
   "metadata": {},
   "outputs": [
    {
     "name": "stdout",
     "output_type": "stream",
     "text": [
      "[ThirdClass: abc]\n"
     ]
    }
   ],
   "source": [
    "print(a) # __str__: returns display string"
   ]
  },
  {
   "cell_type": "code",
   "execution_count": 56,
   "metadata": {
    "collapsed": true
   },
   "outputs": [],
   "source": [
    "b = a + 'xyz' # __add__: makes a new instance"
   ]
  },
  {
   "cell_type": "code",
   "execution_count": 57,
   "metadata": {},
   "outputs": [
    {
     "name": "stdout",
     "output_type": "stream",
     "text": [
      "Current value: \"abcxyz\"\n"
     ]
    }
   ],
   "source": [
    "b.display() # b has all ThirdClass methods"
   ]
  },
  {
   "cell_type": "code",
   "execution_count": 58,
   "metadata": {},
   "outputs": [
    {
     "name": "stdout",
     "output_type": "stream",
     "text": [
      "[ThirdClass: abcxyz]\n"
     ]
    }
   ],
   "source": [
    "print(b) # __str__: returns display string"
   ]
  },
  {
   "cell_type": "code",
   "execution_count": 59,
   "metadata": {
    "collapsed": true
   },
   "outputs": [],
   "source": [
    "a.mul(3) # mul: changes instance in place"
   ]
  },
  {
   "cell_type": "code",
   "execution_count": 60,
   "metadata": {},
   "outputs": [
    {
     "name": "stdout",
     "output_type": "stream",
     "text": [
      "[ThirdClass: abcabcabc]\n"
     ]
    }
   ],
   "source": [
    "print(a)"
   ]
  },
  {
   "cell_type": "markdown",
   "metadata": {},
   "source": [
    "ThirdClass “is a” SecondClass, so its instances inherit the customized display method\n",
    "from SecondClass of the preceding section. This time, though, ThirdClass creation calls\n",
    "pass an argument (e.g., “abc”). This argument is passed to the value argument in the\n",
    "__init__ constructor and assigned to self.data there. The net effect is that Third\n",
    "Class arranges to set the data attribute automatically at construction time, instead of\n",
    "requiring setdata calls after the fact."
   ]
  },
  {
   "cell_type": "markdown",
   "metadata": {},
   "source": [
    "Further, ThirdClass objects can now show up in + expressions and print calls. For +,\n",
    "Python passes the instance object on the left to the self argument in __add__ and the\n",
    "value on the right to other,  whatever __add__ returns becomes\n",
    "the result of the + expression.\n",
    "\n",
    "For print, Python passes the object being printed to self in __str__; whatever string\n",
    "this method returns is taken to be the print string for the object. With __str__ (or its\n",
    "more broadly relevant twin __repr__,\n",
    "we can use a normal print to display objects of this class, instead of calling the special\n",
    "display method."
   ]
  },
  {
   "cell_type": "markdown",
   "metadata": {},
   "source": [
    "The World’s Simplest Python Class:"
   ]
  },
  {
   "cell_type": "code",
   "execution_count": 61,
   "metadata": {
    "collapsed": true
   },
   "outputs": [],
   "source": [
    "class rec: pass # Empty namespace object"
   ]
  },
  {
   "cell_type": "markdown",
   "metadata": {},
   "source": [
    "We need the no-operation pass placeholder statement here\n",
    "because we don’t have any methods to code. After we make the class by running this\n",
    "statement interactively, we can start attaching attributes to the class by assigning names\n",
    "to it completely outside of the original class statement:"
   ]
  },
  {
   "cell_type": "code",
   "execution_count": 62,
   "metadata": {
    "collapsed": true
   },
   "outputs": [],
   "source": [
    "rec.name = 'Sam' # Just objects with attributes\n",
    "rec.age = 27"
   ]
  },
  {
   "cell_type": "code",
   "execution_count": 64,
   "metadata": {},
   "outputs": [
    {
     "name": "stdout",
     "output_type": "stream",
     "text": [
      "Sam\n"
     ]
    }
   ],
   "source": [
    "print(rec.name) # Like a C struct or a record"
   ]
  },
  {
   "cell_type": "markdown",
   "metadata": {},
   "source": [
    "Notice that this works even though there are no instances of the class yet; classes are\n",
    "objects in their own right, even without instances. In fact, they are just self-contained\n",
    "namespaces; as long as we have a reference to a class, we can set or change its attributes\n",
    "anytime we wish. Watch what happens when we do create two instances, though:"
   ]
  },
  {
   "cell_type": "code",
   "execution_count": 65,
   "metadata": {
    "collapsed": true
   },
   "outputs": [],
   "source": [
    "x = rec() # Instances inherit class names"
   ]
  },
  {
   "cell_type": "code",
   "execution_count": 66,
   "metadata": {
    "collapsed": true
   },
   "outputs": [],
   "source": [
    "y = rec()"
   ]
  },
  {
   "cell_type": "code",
   "execution_count": 67,
   "metadata": {},
   "outputs": [
    {
     "data": {
      "text/plain": [
       "('Sam', 'Sam')"
      ]
     },
     "execution_count": 67,
     "metadata": {},
     "output_type": "execute_result"
    }
   ],
   "source": [
    "x.name, y.name # name is stored on the class only"
   ]
  },
  {
   "cell_type": "code",
   "execution_count": 68,
   "metadata": {
    "collapsed": true
   },
   "outputs": [],
   "source": [
    "x.name = 'Tuna'"
   ]
  },
  {
   "cell_type": "markdown",
   "metadata": {},
   "source": [
    "If we do assign an attribute to an instance,\n",
    "though, it creates (or changes) the attribute in that object, and no other—crucially,\n",
    "attribute references kick off inheritance searches, but attribute assignments affect only\n",
    "the objects in which the assignments are made."
   ]
  },
  {
   "cell_type": "code",
   "execution_count": 69,
   "metadata": {},
   "outputs": [
    {
     "data": {
      "text/plain": [
       "('Sam', 'Tuna', 'Sam')"
      ]
     },
     "execution_count": 69,
     "metadata": {},
     "output_type": "execute_result"
    }
   ],
   "source": [
    "rec.name, x.name, y.name # But assignment changes x only"
   ]
  },
  {
   "cell_type": "code",
   "execution_count": 70,
   "metadata": {},
   "outputs": [
    {
     "data": {
      "text/plain": [
       "['__module__', '__dict__', '__weakref__', '__doc__', 'name', 'age']"
      ]
     },
     "execution_count": 70,
     "metadata": {},
     "output_type": "execute_result"
    }
   ],
   "source": [
    "list(rec.__dict__.keys())"
   ]
  },
  {
   "cell_type": "code",
   "execution_count": 71,
   "metadata": {},
   "outputs": [
    {
     "data": {
      "text/plain": [
       "['name', 'age']"
      ]
     },
     "execution_count": 71,
     "metadata": {},
     "output_type": "execute_result"
    }
   ],
   "source": [
    "list(name for name in rec.__dict__ if not name.startswith('__'))"
   ]
  },
  {
   "cell_type": "code",
   "execution_count": 72,
   "metadata": {},
   "outputs": [
    {
     "data": {
      "text/plain": [
       "['name']"
      ]
     },
     "execution_count": 72,
     "metadata": {},
     "output_type": "execute_result"
    }
   ],
   "source": [
    "list(x.__dict__.keys())"
   ]
  },
  {
   "cell_type": "code",
   "execution_count": 73,
   "metadata": {},
   "outputs": [
    {
     "data": {
      "text/plain": [
       "[]"
      ]
     },
     "execution_count": 73,
     "metadata": {},
     "output_type": "execute_result"
    }
   ],
   "source": [
    "list(y.__dict__.keys())"
   ]
  },
  {
   "cell_type": "code",
   "execution_count": 74,
   "metadata": {},
   "outputs": [
    {
     "data": {
      "text/plain": [
       "('Tuna', 'Tuna')"
      ]
     },
     "execution_count": 74,
     "metadata": {},
     "output_type": "execute_result"
    }
   ],
   "source": [
    "x.name, x.__dict__['name'] # Attributes present here are dict keys"
   ]
  },
  {
   "cell_type": "code",
   "execution_count": 75,
   "metadata": {},
   "outputs": [
    {
     "data": {
      "text/plain": [
       "27"
      ]
     },
     "execution_count": 75,
     "metadata": {},
     "output_type": "execute_result"
    }
   ],
   "source": [
    "x.age # But attribute fetch checks classes too"
   ]
  },
  {
   "cell_type": "code",
   "execution_count": 76,
   "metadata": {},
   "outputs": [
    {
     "ename": "KeyError",
     "evalue": "'age'",
     "output_type": "error",
     "traceback": [
      "\u001b[1;31m---------------------------------------------------------------------------\u001b[0m",
      "\u001b[1;31mKeyError\u001b[0m                                  Traceback (most recent call last)",
      "\u001b[1;32m<ipython-input-76-4be5e2c99a01>\u001b[0m in \u001b[0;36m<module>\u001b[1;34m()\u001b[0m\n\u001b[1;32m----> 1\u001b[1;33m \u001b[0mx\u001b[0m\u001b[1;33m.\u001b[0m\u001b[0m__dict__\u001b[0m\u001b[1;33m[\u001b[0m\u001b[1;34m'age'\u001b[0m\u001b[1;33m]\u001b[0m \u001b[1;31m# Indexing dict does not do inheritance\u001b[0m\u001b[1;33m\u001b[0m\u001b[0m\n\u001b[0m",
      "\u001b[1;31mKeyError\u001b[0m: 'age'"
     ]
    }
   ],
   "source": [
    "x.__dict__['age'] # Indexing dict does not do inheritance"
   ]
  },
  {
   "cell_type": "code",
   "execution_count": 77,
   "metadata": {},
   "outputs": [
    {
     "data": {
      "text/plain": [
       "__main__.rec"
      ]
     },
     "execution_count": 77,
     "metadata": {},
     "output_type": "execute_result"
    }
   ],
   "source": [
    "x.__class__ # Instance to class link"
   ]
  },
  {
   "cell_type": "code",
   "execution_count": 78,
   "metadata": {},
   "outputs": [
    {
     "data": {
      "text/plain": [
       "(object,)"
      ]
     },
     "execution_count": 78,
     "metadata": {},
     "output_type": "execute_result"
    }
   ],
   "source": [
    "rec.__bases__ # Class to superclasses link, () in 2.X"
   ]
  },
  {
   "cell_type": "markdown",
   "metadata": {},
   "source": [
    "Even methods, normally created by a def nested in a class, can be created completely\n",
    "independently of any class object. The following, for example, defines a simple function\n",
    "outside of any class that takes one argument:"
   ]
  },
  {
   "cell_type": "code",
   "execution_count": 79,
   "metadata": {
    "collapsed": true
   },
   "outputs": [],
   "source": [
    "def uppername(obj): # Still needs a self argument (obj)\n",
    "    return obj.name.upper()"
   ]
  },
  {
   "cell_type": "code",
   "execution_count": 80,
   "metadata": {},
   "outputs": [
    {
     "data": {
      "text/plain": [
       "'TUNA'"
      ]
     },
     "execution_count": 80,
     "metadata": {},
     "output_type": "execute_result"
    }
   ],
   "source": [
    "uppername(x) # Call as a simple function"
   ]
  },
  {
   "cell_type": "markdown",
   "metadata": {},
   "source": [
    "If we assign this simple function to an attribute of our class, though, it becomes a\n",
    "method, callable through any instance, as well as through the class name itself as long\n",
    "as we pass in an instance manually—a technique we’ll leverage further in the next\n",
    "chapter:"
   ]
  },
  {
   "cell_type": "code",
   "execution_count": 81,
   "metadata": {
    "collapsed": true
   },
   "outputs": [],
   "source": [
    "rec.method = uppername # Now it's a class's method!"
   ]
  },
  {
   "cell_type": "code",
   "execution_count": 82,
   "metadata": {},
   "outputs": [
    {
     "data": {
      "text/plain": [
       "'TUNA'"
      ]
     },
     "execution_count": 82,
     "metadata": {},
     "output_type": "execute_result"
    }
   ],
   "source": [
    "x.method() # Run method to process x"
   ]
  },
  {
   "cell_type": "code",
   "execution_count": 83,
   "metadata": {},
   "outputs": [
    {
     "data": {
      "text/plain": [
       "'SAM'"
      ]
     },
     "execution_count": 83,
     "metadata": {},
     "output_type": "execute_result"
    }
   ],
   "source": [
    "y.method() # Same, but pass y to self"
   ]
  },
  {
   "cell_type": "code",
   "execution_count": 84,
   "metadata": {},
   "outputs": [
    {
     "data": {
      "text/plain": [
       "'TUNA'"
      ]
     },
     "execution_count": 84,
     "metadata": {},
     "output_type": "execute_result"
    }
   ],
   "source": [
    "rec.method(x) # Can call through instance or class"
   ]
  },
  {
   "cell_type": "markdown",
   "metadata": {},
   "source": [
    "Records Revisited: Classes Versus Dictionaries:\n",
    "\n",
    "It turns out that classes can often\n",
    "serve better in this role—they package information like dictionaries, but can also bundle\n",
    "processing logic in the form of methods. For reference, here is an example for tupleand\n",
    "dictionary-based records"
   ]
  },
  {
   "cell_type": "code",
   "execution_count": 85,
   "metadata": {
    "collapsed": true
   },
   "outputs": [],
   "source": [
    "rec = ('Bob', 40.5, ['dev', 'mgr']) # Tuple-based record"
   ]
  },
  {
   "cell_type": "code",
   "execution_count": 86,
   "metadata": {},
   "outputs": [
    {
     "name": "stdout",
     "output_type": "stream",
     "text": [
      "Bob\n"
     ]
    }
   ],
   "source": [
    "print(rec[0])"
   ]
  },
  {
   "cell_type": "code",
   "execution_count": 87,
   "metadata": {
    "collapsed": true
   },
   "outputs": [],
   "source": [
    "rec = {} # Dictionary-based record"
   ]
  },
  {
   "cell_type": "code",
   "execution_count": 88,
   "metadata": {
    "collapsed": true
   },
   "outputs": [],
   "source": [
    "rec['name'] = 'Bob'"
   ]
  },
  {
   "cell_type": "code",
   "execution_count": 89,
   "metadata": {
    "collapsed": true
   },
   "outputs": [],
   "source": [
    "rec['age'] = 40.5"
   ]
  },
  {
   "cell_type": "code",
   "execution_count": 90,
   "metadata": {
    "collapsed": true
   },
   "outputs": [],
   "source": [
    "rec['jobs'] = ['dev', 'mgr']"
   ]
  },
  {
   "cell_type": "code",
   "execution_count": 91,
   "metadata": {},
   "outputs": [
    {
     "name": "stdout",
     "output_type": "stream",
     "text": [
      "Bob\n"
     ]
    }
   ],
   "source": [
    "print(rec['name'])"
   ]
  },
  {
   "cell_type": "markdown",
   "metadata": {},
   "source": [
    "This code emulates tools like records in other languages. As we just saw, though, there\n",
    "are also multiple ways to do the same with classes. Perhaps the simplest is this—trading\n",
    "keys for attributes:"
   ]
  },
  {
   "cell_type": "code",
   "execution_count": 92,
   "metadata": {
    "collapsed": true
   },
   "outputs": [],
   "source": [
    "class rec: pass"
   ]
  },
  {
   "cell_type": "code",
   "execution_count": 93,
   "metadata": {
    "collapsed": true
   },
   "outputs": [],
   "source": [
    "rec.name = 'Bob' # Class-based record"
   ]
  },
  {
   "cell_type": "code",
   "execution_count": 94,
   "metadata": {
    "collapsed": true
   },
   "outputs": [],
   "source": [
    "rec.age = 40.5"
   ]
  },
  {
   "cell_type": "code",
   "execution_count": 95,
   "metadata": {
    "collapsed": true
   },
   "outputs": [],
   "source": [
    "rec.jobs = ['dev', 'mgr']"
   ]
  },
  {
   "cell_type": "code",
   "execution_count": 96,
   "metadata": {},
   "outputs": [
    {
     "name": "stdout",
     "output_type": "stream",
     "text": [
      "Bob\n"
     ]
    }
   ],
   "source": [
    "print(rec.name)"
   ]
  },
  {
   "cell_type": "code",
   "execution_count": 97,
   "metadata": {
    "collapsed": true
   },
   "outputs": [],
   "source": [
    "class rec: pass"
   ]
  },
  {
   "cell_type": "code",
   "execution_count": 98,
   "metadata": {
    "collapsed": true
   },
   "outputs": [],
   "source": [
    "pers1 = rec() # Instance-based records"
   ]
  },
  {
   "cell_type": "code",
   "execution_count": 99,
   "metadata": {
    "collapsed": true
   },
   "outputs": [],
   "source": [
    "pers1.name = 'Bob'"
   ]
  },
  {
   "cell_type": "code",
   "execution_count": 100,
   "metadata": {
    "collapsed": true
   },
   "outputs": [],
   "source": [
    "pers1.jobs = ['dev', 'mgr']"
   ]
  },
  {
   "cell_type": "code",
   "execution_count": 101,
   "metadata": {
    "collapsed": true
   },
   "outputs": [],
   "source": [
    "pers1.age = 40.5"
   ]
  },
  {
   "cell_type": "code",
   "execution_count": 102,
   "metadata": {
    "collapsed": true
   },
   "outputs": [],
   "source": [
    "pers2 = rec()"
   ]
  },
  {
   "cell_type": "code",
   "execution_count": 103,
   "metadata": {
    "collapsed": true
   },
   "outputs": [],
   "source": [
    "pers2.name = 'Sue'"
   ]
  },
  {
   "cell_type": "code",
   "execution_count": 104,
   "metadata": {
    "collapsed": true
   },
   "outputs": [],
   "source": [
    "pers2.jobs = ['dev', 'cto']"
   ]
  },
  {
   "cell_type": "code",
   "execution_count": 105,
   "metadata": {},
   "outputs": [
    {
     "data": {
      "text/plain": [
       "('Bob', 'Sue')"
      ]
     },
     "execution_count": 105,
     "metadata": {},
     "output_type": "execute_result"
    }
   ],
   "source": [
    "pers1.name, pers2.name"
   ]
  },
  {
   "cell_type": "markdown",
   "metadata": {},
   "source": [
    "Finally, we might instead code a more full-blown class to implement the record and its\n",
    "processing—something that data-oriented dictionaries do not directly support:"
   ]
  },
  {
   "cell_type": "code",
   "execution_count": 112,
   "metadata": {
    "collapsed": true
   },
   "outputs": [],
   "source": [
    "class Person:\n",
    "    def __init__(self, name, jobs, age=None):   # class = data + logic\n",
    "        self.name = name\n",
    "        self.jobs = jobs\n",
    "        self.age = age\n",
    "    def info(self):\n",
    "        return (self.name, self.jobs)"
   ]
  },
  {
   "cell_type": "code",
   "execution_count": 113,
   "metadata": {},
   "outputs": [],
   "source": [
    "rec1 = Person('Bob', ['dev', 'mgr'], 40.5) # Construction calls"
   ]
  },
  {
   "cell_type": "code",
   "execution_count": 114,
   "metadata": {
    "collapsed": true
   },
   "outputs": [],
   "source": [
    "rec2 = Person('Sue', ['dev', 'cto'])"
   ]
  },
  {
   "cell_type": "code",
   "execution_count": 115,
   "metadata": {},
   "outputs": [
    {
     "data": {
      "text/plain": [
       "(['dev', 'mgr'], ('Sue', ['dev', 'cto']))"
      ]
     },
     "execution_count": 115,
     "metadata": {},
     "output_type": "execute_result"
    }
   ],
   "source": [
    "rec1.jobs, rec2.info() # Attributes + methods"
   ]
  },
  {
   "cell_type": "code",
   "execution_count": 117,
   "metadata": {},
   "outputs": [
    {
     "data": {
      "text/plain": [
       "'C:\\\\Users\\\\naveenku'"
      ]
     },
     "execution_count": 117,
     "metadata": {},
     "output_type": "execute_result"
    }
   ],
   "source": [
    "import os\n",
    "\n",
    "os.getcwd()"
   ]
  },
  {
   "cell_type": "markdown",
   "metadata": {},
   "source": [
    "Here, we’re going to code two classes:\n",
    "    \n",
    "• Person—a class that creates and processes information about people\n",
    "\n",
    "• Manager—a customization of Person that modifies inherited behavior"
   ]
  },
  {
   "cell_type": "code",
   "execution_count": 132,
   "metadata": {},
   "outputs": [
    {
     "name": "stdout",
     "output_type": "stream",
     "text": [
      "Bob Smith 0\n",
      "Sue Jones 100000\n"
     ]
    }
   ],
   "source": [
    "# File person.py (start)\n",
    "\n",
    "class Person:\n",
    "    def __init__(self, name, job=None, pay=0):\n",
    "        self.name = name\n",
    "        self.job = job\n",
    "        self.pay = pay\n",
    "        \n",
    "        \n",
    "bob = Person('Bob Smith') # Test the class\n",
    "sue = Person('Sue Jones', job='dev', pay=100000) # Runs __init__ automatically\n",
    "print(bob.name, bob.pay) # Fetch attached attributes\n",
    "print(sue.name, sue.pay) # sue's and bob's attrs differ"
   ]
  },
  {
   "cell_type": "code",
   "execution_count": 133,
   "metadata": {},
   "outputs": [
    {
     "name": "stdout",
     "output_type": "stream",
     "text": [
      "Bob Smith 0\n",
      "Sue Jones 100000\n"
     ]
    }
   ],
   "source": [
    "%run -i person.py "
   ]
  },
  {
   "cell_type": "code",
   "execution_count": 130,
   "metadata": {},
   "outputs": [
    {
     "name": "stdout",
     "output_type": "stream",
     "text": [
      "Bob Smith 0\n",
      "Sue Jones 100000\n"
     ]
    }
   ],
   "source": [
    "# Allow this file to be imported as well as run/tested\n",
    "\n",
    "class Person:\n",
    "    def __init__(self, name, job=None, pay=0):\n",
    "        self.name = name\n",
    "        self.job = job\n",
    "        self.pay = pay\n",
    "        \n",
    "\n",
    "if __name__ == '__main__':          # When run for testing only\n",
    "    # self-test code\n",
    "    bob = Person('Bob Smith') # Test the class\n",
    "    sue = Person('Sue Jones', job='dev', pay=100000) # Runs __init__ automatically\n",
    "    print(bob.name, bob.pay) # Fetch attached attributes\n",
    "    print(sue.name, sue.pay) # sue's and bob's attrs differ"
   ]
  },
  {
   "cell_type": "code",
   "execution_count": 131,
   "metadata": {},
   "outputs": [
    {
     "name": "stdout",
     "output_type": "stream",
     "text": [
      "Bob Smith 0\n",
      "Sue Jones 100000\n"
     ]
    }
   ],
   "source": [
    "%run -i person.py "
   ]
  },
  {
   "cell_type": "code",
   "execution_count": 136,
   "metadata": {},
   "outputs": [
    {
     "name": "stdout",
     "output_type": "stream",
     "text": [
      "Bob Smith 0\n",
      "Sue Jones 100000\n",
      "Smith\n",
      "110000.00\n"
     ]
    }
   ],
   "source": [
    "# Process embedded built-in types: strings, mutability\n",
    "class Person:\n",
    "    def __init__(self, name, job=None, pay=0):\n",
    "        self.name = name\n",
    "        self.job = job\n",
    "        self.pay = pay\n",
    "    \n",
    "if __name__ == '__main__':\n",
    "    bob = Person('Bob Smith')\n",
    "    sue = Person('Sue Jones', job='dev', pay=100000)\n",
    "    print(bob.name, bob.pay)\n",
    "    print(sue.name, sue.pay)\n",
    "    print(bob.name.split()[-1]) # Extract object's last name\n",
    "    sue.pay *= 1.10 # Give this object a raise\n",
    "    print('%.2f' % sue.pay)"
   ]
  },
  {
   "cell_type": "code",
   "execution_count": 137,
   "metadata": {},
   "outputs": [
    {
     "name": "stdout",
     "output_type": "stream",
     "text": [
      "Bob Smith 0\n",
      "Sue Jones 100000\n",
      "Smith Jones\n",
      "110000\n"
     ]
    }
   ],
   "source": [
    "# Add methods to encapsulate operations for maintainability\n",
    "class Person:\n",
    "    def __init__(self, name, job=None, pay=0):\n",
    "        self.name = name\n",
    "        self.job = job\n",
    "        self.pay = pay\n",
    "    def lastName(self):  # Behavior methods\n",
    "        return self.name.split()[-1]   # self is implied subject\n",
    "    def giveRaise(self, percent):\n",
    "        self.pay = int(self.pay * (1 + percent)) # Must change here only\n",
    "\n",
    "if __name__ == '__main__':\n",
    "    bob = Person('Bob Smith')\n",
    "    sue = Person('Sue Jones', job='dev', pay=100000)\n",
    "    print(bob.name, bob.pay)\n",
    "    print(sue.name, sue.pay)\n",
    "    print(bob.lastName(), sue.lastName()) # Use the new methods\n",
    "    sue.giveRaise(.10) # instead of hardcoding\n",
    "    print(sue.pay)"
   ]
  },
  {
   "cell_type": "markdown",
   "metadata": {},
   "source": [
    "Later, we’ll code something called function decorators and explore Python’s assert statement—\n",
    "alternatives that can do the validity test for us automatically during development. for example, we’ll write a tool that lets us validate with strange incantations\n",
    "like the following:"
   ]
  },
  {
   "cell_type": "code",
   "execution_count": null,
   "metadata": {},
   "outputs": [],
   "source": [
    "@rangetest(percent=(0.0, 1.0)) # Use decorator to validate\n",
    "    def giveRaise(self, percent):\n",
    "        self.pay = int(self.pay * (1 + percent))"
   ]
  },
  {
   "cell_type": "markdown",
   "metadata": {},
   "source": [
    "Operator Overloading: \n",
    "\n",
    "Providing Print Displays:\n",
    "\n",
    "Fortunately, it’s easy to do better by employing operator overloading—coding methods\n",
    "in a class that intercept and process built-in operations when run on the class’s instances.\n",
    "Specifically, we can make use of what are probably the second most commonly\n",
    "used operator overloading methods in Python, after __init__: the __repr__ method\n",
    "we’ll deploy here, and its __str__ twin introduced in the preceding chapter.\n",
    "\n",
    "the __repr__ method is often used to provide\n",
    "an as-code low-level display of an object when present, and __str__ is reserved for more\n",
    "user-friendly informational displays like ours here. Sometimes classes provide both a\n",
    "__str__ for user-friendly displays and a __repr__ with extra details for developers to\n",
    "view. Because printing runs __str__ and the interactive prompt echoes results with\n",
    "__repr__, this can provide both target audiences with an appropriate display."
   ]
  },
  {
   "cell_type": "code",
   "execution_count": 142,
   "metadata": {},
   "outputs": [
    {
     "name": "stdout",
     "output_type": "stream",
     "text": [
      "[Person: Bob Smith, 0]\n",
      "[Person: Sue Jones, 100000]\n",
      "Smith Jones\n",
      "[Person: Sue Jones, 110000]\n"
     ]
    }
   ],
   "source": [
    "# Add __repr__ overload method for printing objects\n",
    "class Person:\n",
    "    def __init__(self, name, job=None, pay=0):\n",
    "        self.name = name\n",
    "        self.job = job\n",
    "        self.pay = pay\n",
    "    def lastName(self):\n",
    "        return self.name.split()[-1]\n",
    "    def giveRaise(self, percent):\n",
    "        self.pay = int(self.pay * (1 + percent))\n",
    "    def __repr__(self): # Added method\n",
    "        return '[Person: %s, %s]' % (self.name, self.pay) # String to print\n",
    "    \n",
    "if __name__ == '__main__':\n",
    "    bob = Person('Bob Smith')\n",
    "    sue = Person('Sue Jones', job='dev', pay=100000)\n",
    "    print(bob)\n",
    "    print(sue)\n",
    "    print(bob.lastName(), sue.lastName())\n",
    "    sue.giveRaise(.10)\n",
    "    print(sue)"
   ]
  },
  {
   "cell_type": "markdown",
   "metadata": {},
   "source": [
    "Customizing Behavior by Subclassing:\n",
    "\n",
    "The only major OOP concept it does not yet capture is customization by inheritance.\n",
    "In some sense, we’re already doing inheritance, because instances inherit methods from\n",
    "their classes. To demonstrate the real power of OOP, though, we need to define a\n",
    "superclass/subclass relationship that allows us to extend our software and replace bits\n",
    "of inherited behavior. That’s the main idea behind OOP, after all; by fostering a coding\n",
    "model based upon customization of work already done, it can dramatically cut development\n",
    "time."
   ]
  },
  {
   "cell_type": "markdown",
   "metadata": {},
   "source": [
    "Coding Subclasses:\n",
    "\n",
    "\n",
    "Augmenting Methods: The Bad Way"
   ]
  },
  {
   "cell_type": "code",
   "execution_count": 145,
   "metadata": {},
   "outputs": [],
   "source": [
    "class Manager(Person):\n",
    "    def giveRaise(self, percent, bonus=.10):\n",
    "        self.pay = int(self.pay * (1 + percent + bonus))  #Bad: cut and paste"
   ]
  },
  {
   "cell_type": "markdown",
   "metadata": {},
   "source": [
    "Augmenting Methods: The Good Way"
   ]
  },
  {
   "cell_type": "code",
   "execution_count": 146,
   "metadata": {
    "collapsed": true
   },
   "outputs": [],
   "source": [
    "class Manager(Person):\n",
    "    def giveRaise(self, percent, bonus=.10):\n",
    "        Person.giveRaise(self, percent + bonus) # Good: augment original"
   ]
  },
  {
   "cell_type": "code",
   "execution_count": 148,
   "metadata": {},
   "outputs": [
    {
     "name": "stdout",
     "output_type": "stream",
     "text": [
      "[Person: Bob Smith, 0]\n",
      "[Person: Sue Jones, 100000]\n",
      "Smith Jones\n",
      "[Person: Sue Jones, 110000]\n",
      "Jones\n",
      "[Person: Tom Jones, 60000]\n"
     ]
    }
   ],
   "source": [
    "# Add customization of one behavior in a subclass\n",
    "\n",
    "class Person:\n",
    "    def __init__(self, name, job=None, pay=0):\n",
    "        self.name = name\n",
    "        self.job = job\n",
    "        self.pay = pay\n",
    "    def lastName(self):\n",
    "        return self.name.split()[-1]\n",
    "    def giveRaise(self, percent):\n",
    "        self.pay = int(self.pay * (1 + percent))\n",
    "    def __repr__(self):\n",
    "        return '[Person: %s, %s]' % (self.name, self.pay)\n",
    "\n",
    "class Manager(Person):\n",
    "    def giveRaise(self, percent, bonus=.10): # Redefine at this level\n",
    "        Person.giveRaise(self, percent + bonus) # Call Person's version\n",
    "\n",
    "if __name__ == '__main__':\n",
    "    bob = Person('Bob Smith')\n",
    "    sue = Person('Sue Jones', job='dev', pay=100000)\n",
    "    print(bob)\n",
    "    print(sue)\n",
    "    print(bob.lastName(), sue.lastName())\n",
    "    sue.giveRaise(.10)\n",
    "    print(sue)\n",
    "    tom = Manager('Tom Jones', 'mgr', 50000) # Make a Manager: __init__\n",
    "    tom.giveRaise(.10) # Runs custom version\n",
    "    print(tom.lastName()) # Runs inherited method\n",
    "    print(tom) # Runs inherited __repr__"
   ]
  },
  {
   "cell_type": "markdown",
   "metadata": {},
   "source": [
    "Polymorphism in Action:\n",
    "    \n",
    "To make this acquisition of inherited behavior even more striking, we can add the\n",
    "following code at the end of our file temporarily:"
   ]
  },
  {
   "cell_type": "code",
   "execution_count": 149,
   "metadata": {},
   "outputs": [
    {
     "name": "stdout",
     "output_type": "stream",
     "text": [
      "--All three--\n",
      "[Person: Bob Smith, 0]\n",
      "[Person: Sue Jones, 121000]\n",
      "[Person: Tom Jones, 72000]\n"
     ]
    }
   ],
   "source": [
    "if __name__ == '__main__':\n",
    "    ...\n",
    "    print('--All three--')\n",
    "    for obj in (bob, sue, tom): # Process objects generically\n",
    "        obj.giveRaise(.10) # Run this object's giveRaise\n",
    "        print(obj) # Run the common __repr__"
   ]
  },
  {
   "cell_type": "markdown",
   "metadata": {},
   "source": [
    "Inherit, Customize, and Extend:\n",
    "    \n",
    "In fact, classes can be even more flexible than our example implies. In general, classes\n",
    "can inherit, customize, or extend existing code in superclasses. For example, although\n",
    "we’re focused on customization here, we can also add unique methods to Manager that\n",
    "are not present in Person, if Managers require something completely different (Python\n",
    "namesake reference intended). The following snippet illustrates. Here, giveRaise redefines\n",
    "a superclass’s method to customize it, but someThingElse defines something\n",
    "new to extend:"
   ]
  },
  {
   "cell_type": "code",
   "execution_count": null,
   "metadata": {},
   "outputs": [],
   "source": [
    "class Person:\n",
    "    def lastName(self): ...\n",
    "    def giveRaise(self): ...\n",
    "    def __repr__(self): ...\n",
    "        \n",
    "class Manager(Person): # Inherit\n",
    "    def giveRaise(self, ...): ... # Customize\n",
    "    def someThingElse(self, ...): ... # Extend     \n",
    "        \n",
    "tom = Manager()\n",
    "tom.lastName() # Inherited verbatim\n",
    "tom.giveRaise() # Customized version\n",
    "tom.someThingElse() # Extension here\n",
    "print(tom) # Inherited overload method"
   ]
  },
  {
   "cell_type": "markdown",
   "metadata": {},
   "source": [
    "Customizing Constructors, Too:\n",
    "\n",
    "The trick we need to improve on this turns out to be the same as the one we employed\n",
    "in the prior section: we want to customize the constructor logic for Managers in such a\n",
    "way as to provide a job name automatically. In terms of code, we want to redefine an\n",
    "__init__ method in Manager that provides the mgr string for us. And as in giveRaise\n",
    "customization, we also want to run the original __init__ in Person by calling through\n",
    "the class name, so it still initializes our objects’ state information attributes."
   ]
  },
  {
   "cell_type": "code",
   "execution_count": 151,
   "metadata": {},
   "outputs": [
    {
     "name": "stdout",
     "output_type": "stream",
     "text": [
      "[Person: Bob Smith, 0]\n",
      "[Person: Sue Jones, 100000]\n",
      "Smith Jones\n",
      "[Person: Sue Jones, 110000]\n",
      "Jones\n",
      "[Person: Tom Jones, 60000]\n"
     ]
    }
   ],
   "source": [
    "# File person.py\n",
    "# Add customization of constructor in a subclass\n",
    "class Person:\n",
    "    def __init__(self, name, job=None, pay=0):\n",
    "        self.name = name\n",
    "        self.job = job\n",
    "        self.pay = pay\n",
    "    def lastName(self):\n",
    "        return self.name.split()[-1]\n",
    "    def giveRaise(self, percent):\n",
    "        self.pay = int(self.pay * (1 + percent))\n",
    "    def __repr__(self):\n",
    "        return '[Person: %s, %s]' % (self.name, self.pay)\n",
    "\n",
    "class Manager(Person):\n",
    "    def __init__(self, name, pay): # Redefine constructor\n",
    "        Person.__init__(self, name, 'mgr', pay) # Run original with 'mgr'\n",
    "    def giveRaise(self, percent, bonus=.10):\n",
    "        Person.giveRaise(self, percent + bonus)\n",
    "\n",
    "if __name__ == '__main__':\n",
    "    bob = Person('Bob Smith')\n",
    "    sue = Person('Sue Jones', job='dev', pay=100000)\n",
    "    print(bob)\n",
    "    print(sue)\n",
    "    print(bob.lastName(), sue.lastName())\n",
    "    sue.giveRaise(.10)\n",
    "    print(sue)\n",
    "    tom = Manager('Tom Jones', 50000) # Job name not needed:\n",
    "    tom.giveRaise(.10) # Implied/set by class\n",
    "    print(tom.lastName())\n",
    "    print(tom)"
   ]
  },
  {
   "cell_type": "markdown",
   "metadata": {},
   "source": [
    "OOP Is Simpler Than You May Think\n",
    "\n",
    "In this complete form, and despite their relatively small sizes, our classes capture nearly\n",
    "all the important concepts in Python’s OOP machinery:\n",
    "\n",
    "• Instance creation—filling out instance attributes\n",
    "\n",
    "• Behavior methods—encapsulating logic in a class’s methods\n",
    "\n",
    "• Operator overloading—providing behavior for built-in operations like printing\n",
    "\n",
    "• Customizing behavior—redefining methods in subclasses to specialize them\n",
    "\n",
    "• Customizing constructors—adding initialization logic to superclass steps"
   ]
  },
  {
   "cell_type": "markdown",
   "metadata": {},
   "source": [
    "Other Ways to Combine Classes:\n",
    "\n",
    "The following alternative, coded in file person-composite.py, does so by using the __get\n",
    "attr__ operator overloading method to intercept undefined attribute fetches and delegate\n",
    "them to the embedded object with the getattr built-in."
   ]
  },
  {
   "cell_type": "code",
   "execution_count": null,
   "metadata": {},
   "outputs": [],
   "source": [
    "# File person-composite.py\n",
    "# Embedding-based Manager alternative\n",
    "class Person:\n",
    "    ...same...\n",
    "\n",
    "class Manager:\n",
    "    def __init__(self, name, pay):\n",
    "        self.person = Person(name, 'mgr', pay) # Embed a Person object\n",
    "    def giveRaise(self, percent, bonus=.10):\n",
    "        self.person.giveRaise(percent + bonus) # Intercept and delegate\n",
    "    def __getattr__(self, attr):\n",
    "        return getattr(self.person, attr) # Delegate all other attrs\n",
    "    def __repr__(self):\n",
    "        return str(self.person) # Must overload again (in 3.X)\n",
    "    \n",
    "if __name__ == '__main__':\n",
    "...same..."
   ]
  },
  {
   "cell_type": "code",
   "execution_count": null,
   "metadata": {},
   "outputs": [],
   "source": [
    "# File person-department.py\n",
    "# Aggregate embedded objects into a composite\n",
    "class Person:\n",
    "    ...same...\n",
    "\n",
    "class Manager(Person):\n",
    "    ...same...\n",
    "\n",
    "class Department:\n",
    "    def __init__(self, *args):\n",
    "        self.members = list(args)\n",
    "    def addMember(self, person):\n",
    "        self.members.append(person)\n",
    "    def giveRaises(self, percent):\n",
    "        for person in self.members:\n",
    "            person.giveRaise(percent)\n",
    "    def showAll(self):\n",
    "        for person in self.members:\n",
    "            print(person)\n",
    "\n",
    "if __name__ == '__main__':\n",
    "    bob = Person('Bob Smith')\n",
    "    sue = Person('Sue Jones', job='dev', pay=100000)\n",
    "    tom = Manager('Tom Jones', 50000)\n",
    "    development = Department(bob, sue) # Embed objects in a composite\n",
    "    development.addMember(tom)\n",
    "    development.giveRaises(.10) # Runs embedded objects' giveRaise\n",
    "    development.showAll() # Runs embedded objects' __repr__"
   ]
  },
  {
   "cell_type": "markdown",
   "metadata": {},
   "source": [
    "A Generic Display Tool:\n",
    "\n",
    "We can put these interfaces to work in a superclass that displays accurate class names\n",
    "and formats all attributes of an instance of any class. Open a new file in your text editor\n",
    "to code the following—it’s a new, independent module named classtools.py that implements\n",
    "just such a class. Because its __repr__ display overload uses generic introspection\n",
    "tools, it will work on any instance, regardless of the instance’s attributes set.\n",
    "And because this is a class, it automatically becomes a general formatting tool: thanks\n",
    "to inheritance, it can be mixed into any class that wishes to use its display format. As\n",
    "an added bonus, if we ever want to change how instances are displayed we need only\n",
    "change this class, as every class that inherits its __repr__ will automatically pick up the\n",
    "new format when it’s next run:"
   ]
  },
  {
   "cell_type": "code",
   "execution_count": 169,
   "metadata": {},
   "outputs": [
    {
     "name": "stdout",
     "output_type": "stream",
     "text": [
      "[TopTest: attr1=0, attr2=1]\n",
      "[SubTest: attr1=2, attr2=3]\n"
     ]
    }
   ],
   "source": [
    "# File classtools.py (new)\n",
    "\"Assorted class utilities and tools\"\n",
    "\n",
    "class AttrDisplay:\n",
    "    \"\"\"\n",
    "    Provides an inheritable display overload method that shows\n",
    "    instances with their class names and a name=value pair for\n",
    "    each attribute stored on the instance itself (but not attrs\n",
    "    inherited from its classes). Can be mixed into any class,\n",
    "    and will work on any instance.\n",
    "    \"\"\"\n",
    "    def gatherAttrs(self):\n",
    "        attrs = []\n",
    "        for key in sorted(self.__dict__):\n",
    "            attrs.append('%s=%s' % (key, getattr(self, key)))\n",
    "        return ', '.join(attrs)\n",
    "    def __repr__(self):\n",
    "        return '[%s: %s]' % (self.__class__.__name__, self.gatherAttrs())\n",
    "    \n",
    "if __name__ == '__main__':\n",
    "    \n",
    "    class TopTest(AttrDisplay):\n",
    "        count = 0\n",
    "        def __init__(self):\n",
    "            self.attr1 = TopTest.count\n",
    "            self.attr2 = TopTest.count+1\n",
    "            TopTest.count += 2\n",
    "    class SubTest(TopTest):\n",
    "        pass\n",
    "    \n",
    "X, Y = TopTest(), SubTest() # Make two instances\n",
    "print(X) # Show all instance attrs\n",
    "print(Y) # Show lowest class name"
   ]
  },
  {
   "cell_type": "code",
   "execution_count": 159,
   "metadata": {},
   "outputs": [
    {
     "name": "stdout",
     "output_type": "stream",
     "text": [
      "\n",
      "    Provides an inheritable display overload method that shows\n",
      "    instances with their class names and a name=value pair for\n",
      "    each attribute stored on the instance itself (but not attrs\n",
      "    inherited from its classes). Can be mixed into any class,\n",
      "    and will work on any instance.\n",
      "    \n"
     ]
    }
   ],
   "source": [
    "print(AttrDisplay.__doc__)"
   ]
  },
  {
   "cell_type": "markdown",
   "metadata": {},
   "source": [
    "Instance Versus Class Attributes:\n",
    "\n",
    "If you study the classtools module’s self-test code long enough, you’ll notice that its\n",
    "class displays only instance attributes, attached to the self object at the bottom of the\n",
    "inheritance tree; that’s what self’s __dict__ contains. As an intended consequence, we\n",
    "don’t see attributes inherited by the instance from classes above it in the tree (e.g.,\n",
    "count in this file’s self-test code—a class attribute used as an instance counter). Inherited\n",
    "class attributes are attached to the class only, not copied down to instances.\n",
    "\n",
    "If you ever do wish to include inherited attributes too, you can climb the __class__ link\n",
    "to the instance’s class, use the __dict__ there to fetch class attributes, and then iterate\n",
    "through the class’s __bases__ attribute to climb to even higher superclasses, repeating\n",
    "as necessary. If you’re a fan of simple code, running a built-in dir call on the instance\n",
    "instead of using __dict__ and climbing would have much the same effect, since dir\n",
    "results include inherited names in the sorted results list."
   ]
  },
  {
   "cell_type": "code",
   "execution_count": 160,
   "metadata": {
    "collapsed": true
   },
   "outputs": [],
   "source": [
    "from person import Person"
   ]
  },
  {
   "cell_type": "code",
   "execution_count": 161,
   "metadata": {
    "collapsed": true
   },
   "outputs": [],
   "source": [
    "bob = Person('Bob Smith')"
   ]
  },
  {
   "cell_type": "code",
   "execution_count": 163,
   "metadata": {},
   "outputs": [
    {
     "data": {
      "text/plain": [
       "dict_keys(['name', 'job', 'pay'])"
      ]
     },
     "execution_count": 163,
     "metadata": {},
     "output_type": "execute_result"
    }
   ],
   "source": [
    "bob.__dict__.keys() # Instance attrs only"
   ]
  },
  {
   "cell_type": "code",
   "execution_count": 164,
   "metadata": {},
   "outputs": [
    {
     "data": {
      "text/plain": [
       "['__class__',\n",
       " '__delattr__',\n",
       " '__dict__',\n",
       " '__dir__',\n",
       " '__doc__',\n",
       " '__eq__',\n",
       " '__format__',\n",
       " '__ge__',\n",
       " '__getattribute__',\n",
       " '__gt__',\n",
       " '__hash__',\n",
       " '__init__',\n",
       " '__init_subclass__',\n",
       " '__le__',\n",
       " '__lt__',\n",
       " '__module__',\n",
       " '__ne__',\n",
       " '__new__',\n",
       " '__reduce__',\n",
       " '__reduce_ex__',\n",
       " '__repr__',\n",
       " '__setattr__',\n",
       " '__sizeof__',\n",
       " '__str__',\n",
       " '__subclasshook__',\n",
       " '__weakref__',\n",
       " 'job',\n",
       " 'name',\n",
       " 'pay']"
      ]
     },
     "execution_count": 164,
     "metadata": {},
     "output_type": "execute_result"
    }
   ],
   "source": [
    "dir(bob)"
   ]
  },
  {
   "cell_type": "code",
   "execution_count": 165,
   "metadata": {},
   "outputs": [
    {
     "data": {
      "text/plain": [
       "29"
      ]
     },
     "execution_count": 165,
     "metadata": {},
     "output_type": "execute_result"
    }
   ],
   "source": [
    "len(dir(bob))"
   ]
  },
  {
   "cell_type": "markdown",
   "metadata": {},
   "source": [
    "Our Classes’ Final Form:\n",
    "    \n",
    "Now, to use this generic tool in our classes, all we need to do is import it from its\n",
    "module, mix it in by inheritance in our top-level class, and get rid of the more specific\n",
    "__repr__ we coded before. The new display overload method will be inherited by instances\n",
    "of Person, as well as Manager; Manager gets __repr__ from Person, which now\n",
    "obtains it from the AttrDisplay coded in another module. Here is the final version of\n",
    "our person.py file with these changes applied:"
   ]
  },
  {
   "cell_type": "code",
   "execution_count": 170,
   "metadata": {},
   "outputs": [
    {
     "name": "stdout",
     "output_type": "stream",
     "text": [
      "[TopTest: attr1=0, attr2=1]\n",
      "[SubTest: attr1=2, attr2=3]\n",
      "[Person: job=None, name=Bob Smith, pay=0]\n",
      "[Person: job=dev, name=Sue Jones, pay=100000]\n",
      "Smith Jones\n",
      "[Person: job=dev, name=Sue Jones, pay=110000]\n",
      "Jones\n",
      "[Manager: job=mgr, name=Tom Jones, pay=60000]\n"
     ]
    }
   ],
   "source": [
    "# File classtools.py (new)\n",
    "#...as listed earlier...\n",
    "# File person.py (final)\n",
    "\"\"\"\n",
    "Record and process information about people.\n",
    "Run this file directly to test its classes.\n",
    "\"\"\"\n",
    "from classtools import AttrDisplay # Use generic display tool\n",
    "\n",
    "class Person(AttrDisplay): # Mix in a repr at this level\n",
    "    \"\"\"\n",
    "    Create and process person records\n",
    "    \"\"\"\n",
    "    def __init__(self, name, job=None, pay=0):\n",
    "        self.name = name\n",
    "        self.job = job\n",
    "        self.pay = pay\n",
    "    def lastName(self): # Assumes last is last\n",
    "        return self.name.split()[-1]\n",
    "    def giveRaise(self, percent): # Percent must be 0..1\n",
    "        self.pay = int(self.pay * (1 + percent))\n",
    "        \n",
    "class Manager(Person):\n",
    "    \"\"\"\n",
    "    A customized Person with special requirements\n",
    "    \"\"\"\n",
    "    def __init__(self, name, pay):\n",
    "        Person.__init__(self, name, 'mgr', pay) # Job name is implied\n",
    "    def giveRaise(self, percent, bonus=.10):\n",
    "        Person.giveRaise(self, percent + bonus)\n",
    "        \n",
    "if __name__ == '__main__':\n",
    "    bob = Person('Bob Smith')\n",
    "    sue = Person('Sue Jones', job='dev', pay=100000)\n",
    "    print(bob)\n",
    "    print(sue)\n",
    "    print(bob.lastName(), sue.lastName())\n",
    "    sue.giveRaise(.10)\n",
    "    print(sue)\n",
    "    tom = Manager('Tom Jones', 50000)\n",
    "    tom.giveRaise(.10)\n",
    "    print(tom.lastName())\n",
    "    print(tom)"
   ]
  },
  {
   "cell_type": "markdown",
   "metadata": {},
   "source": [
    "Storing Objects in a Database:\n",
    "\n",
    "Although our classes work as planned, though, the objects they create are not real\n",
    "database records. That is, if we kill Python, our instances will disappear—they’re transient\n",
    "objects in memory and are not stored in a more permanent medium like a file, so\n",
    "they won’t be available in future program runs. It turns out that it’s easy to make\n",
    "instance objects more permanent, with a Python feature called object persistence—\n",
    "making objects live on after the program that creates them exits. As a final step in this\n",
    "tutorial, let’s make our objects permanent.\n",
    "\n",
    "Pickles and Shelves\n",
    "\n",
    "Object persistence is implemented by three standard library modules, available in every\n",
    "Python:\n",
    "\n",
    "pickle:\n",
    "\n",
    "Serializes arbitrary Python objects to and from a string of bytes\n",
    "\n",
    "dbm: (named anydbm in Python 2.X)\n",
    "\n",
    "Implements an access-by-key filesystem for storing strings\n",
    "\n",
    "shelve:\n",
    "\n",
    "Uses the other two modules to store Python objects on a file by key"
   ]
  },
  {
   "cell_type": "markdown",
   "metadata": {},
   "source": [
    "**The pickle module:**\n",
    "    \n",
    "The pickle module is a sort of super-general object formatting and deformatting tool:\n",
    "given a nearly arbitrary Python object in memory, it’s clever enough to convert the\n",
    "object to a string of bytes, which it can use later to reconstruct the original object in\n",
    "memory. The pickle module can handle almost any object you can create—lists, dic-\n",
    "tionaries, nested combinations thereof, and class instances. The latter are especially\n",
    "useful things to pickle, because they provide both data (attributes) and behavior (methods);\n",
    "in fact, the combination is roughly equivalent to “records” and “programs.” Because\n",
    "pickle is so general, it can replace extra code you might otherwise write to create\n",
    "and parse custom text file representations for your objects. By storing an object’s pickle\n",
    "string on a file, you effectively make it permanent and persistent: simply load and unpickle\n",
    "it later to re-create the original object."
   ]
  },
  {
   "cell_type": "markdown",
   "metadata": {},
   "source": [
    "**The shelve module:**\n",
    "    \n",
    "Although it’s easy to use pickle by itself to store objects in simple flat files and load\n",
    "them from there later, the shelve module provides an extra layer of structure that allows\n",
    "you to store pickled objects by key. shelve translates an object to its pickled string with\n",
    "pickle and stores that string under a key in a dbm file; when later loading, shelve fetches\n",
    "the pickled string by key and re-creates the original object in memory with pickle. This\n",
    "is all quite a trick, but to your script a shelve of pickled objects looks just like a\n",
    "dictionary—you index by key to fetch, assign to keys to store, and use dictionary tools\n",
    "such as len, in, and dict.keys to get information. Shelves automatically map dictionary\n",
    "operations to objects stored in a file."
   ]
  },
  {
   "cell_type": "code",
   "execution_count": 171,
   "metadata": {
    "collapsed": true
   },
   "outputs": [],
   "source": [
    "# File makedb.py: store Person objects on a shelve database\n",
    "from person import Person # Load our classes\n",
    "bob = Person('Bob Smith') # Re-create objects to be stored\n",
    "sue = Person('Sue Jones', job='dev', pay=100000)\n",
    "\n",
    "import shelve\n",
    "db = shelve.open('persondb') # Filename where objects are stored\n",
    "for obj in (bob, sue): # Use object's name attr as key\n",
    "    db[obj.name] = obj # Store object on shelve by key\n",
    "db.close() # Close after making changes"
   ]
  },
  {
   "cell_type": "markdown",
   "metadata": {},
   "source": [
    "Exploring Shelves Interactively:\n",
    "\n",
    "At this point, there are one or more real files in the current directory whose names all\n",
    "start with “persondb”. The actual files created can vary per platform, and just as in the\n",
    "built-in open function, the filename in shelve.open() is relative to the current working\n",
    "directory unless it includes a directory path. Wherever they are stored, these files implement\n",
    "a keyed-access file that contains the pickled representation of our three Python\n",
    "objects. Don’t delete these files—they are your database, and are what you’ll need to\n",
    "copy or transfer when you back up or move your storage.\n",
    "\n",
    "You can look at the shelve’s files if you want to, either from Windows Explorer or the\n",
    "Python shell, but they are binary hash files, and most of their content makes little sense\n",
    "outside the context of the shelve module. With Python 3.X and no extra software\n",
    "installed, our database is stored in three files (in 2.X, it’s just one file, persondb, because\n",
    "the bsddb extension module is preinstalled with Python for shelves; in 3.X, bsddb is an\n",
    "optional third-party open source add-on).\n",
    "\n",
    "For example, Python’s standard library **glob module** allows us to get directory listings\n",
    "in Python code to verify the files here, and we can open the files in text or binary mode\n",
    "to explore strings and bytes:"
   ]
  },
  {
   "cell_type": "code",
   "execution_count": 172,
   "metadata": {
    "collapsed": true
   },
   "outputs": [],
   "source": [
    "import glob"
   ]
  },
  {
   "cell_type": "code",
   "execution_count": 173,
   "metadata": {},
   "outputs": [
    {
     "data": {
      "text/plain": [
       "['person.py', 'Person.txt', 'persondb.bak', 'persondb.dat', 'persondb.dir']"
      ]
     },
     "execution_count": 173,
     "metadata": {},
     "output_type": "execute_result"
    }
   ],
   "source": [
    "glob.glob('person*')"
   ]
  },
  {
   "cell_type": "code",
   "execution_count": 174,
   "metadata": {},
   "outputs": [
    {
     "name": "stdout",
     "output_type": "stream",
     "text": [
      "'Bob Smith', (0, 80)\n",
      "'Sue Jones', (512, 92)\n",
      "\n"
     ]
    }
   ],
   "source": [
    "print(open('persondb.dir').read())"
   ]
  },
  {
   "cell_type": "markdown",
   "metadata": {},
   "source": [
    "This content isn’t impossible to decipher, but it can vary on different platforms and\n",
    "doesn’t exactly qualify as a user-friendly database interface! To verify our work better,\n",
    "we can write another script, or poke around our shelve at the interactive prompt. Because\n",
    "shelves are Python objects containing Python objects, we can process them with\n",
    "normal Python syntax and development modes. Here, the interactive prompt effectively\n",
    "becomes a database client:"
   ]
  },
  {
   "cell_type": "code",
   "execution_count": 175,
   "metadata": {
    "collapsed": true
   },
   "outputs": [],
   "source": [
    "import shelve"
   ]
  },
  {
   "cell_type": "code",
   "execution_count": 177,
   "metadata": {},
   "outputs": [],
   "source": [
    "db = shelve.open('persondb') # Reopen the shelve"
   ]
  },
  {
   "cell_type": "code",
   "execution_count": 181,
   "metadata": {},
   "outputs": [
    {
     "data": {
      "text/plain": [
       "2"
      ]
     },
     "execution_count": 181,
     "metadata": {},
     "output_type": "execute_result"
    }
   ],
   "source": [
    "len(db) # Two 'records' stored"
   ]
  },
  {
   "cell_type": "code",
   "execution_count": 182,
   "metadata": {},
   "outputs": [
    {
     "data": {
      "text/plain": [
       "['Bob Smith', 'Sue Jones']"
      ]
     },
     "execution_count": 182,
     "metadata": {},
     "output_type": "execute_result"
    }
   ],
   "source": [
    "list(db.keys()) # keys is the index"
   ]
  },
  {
   "cell_type": "code",
   "execution_count": 183,
   "metadata": {},
   "outputs": [],
   "source": [
    "bob = db['Bob Smith'] # Fetch bob by key"
   ]
  },
  {
   "cell_type": "code",
   "execution_count": 185,
   "metadata": {},
   "outputs": [
    {
     "data": {
      "text/plain": [
       "<person.Person at 0x3710a50>"
      ]
     },
     "execution_count": 185,
     "metadata": {},
     "output_type": "execute_result"
    }
   ],
   "source": [
    "bob "
   ]
  },
  {
   "cell_type": "code",
   "execution_count": 187,
   "metadata": {},
   "outputs": [
    {
     "name": "stdout",
     "output_type": "stream",
     "text": [
      "Bob Smith => <person.Person object at 0x03710BF0>\n",
      "Sue Jones => <person.Person object at 0x0370F270>\n"
     ]
    }
   ],
   "source": [
    "for key in db: # Iterate, fetch, print\n",
    "    print(key, '=>', db[key])"
   ]
  },
  {
   "cell_type": "markdown",
   "metadata": {},
   "source": [
    "Updating Objects on a Shelve"
   ]
  },
  {
   "cell_type": "code",
   "execution_count": null,
   "metadata": {},
   "outputs": [],
   "source": [
    "# File updatedb.py: update Person object on database\n",
    "\n",
    "import shelve\n",
    "\n",
    "db = shelve.open('persondb') # Reopen shelve with same filename\n",
    "\n",
    "for key in sorted(db): # Iterate to display database objects\n",
    "    print(key, '\\t=>', db[key]) # Prints with custom format\n",
    "    \n",
    "sue = db['Sue Jones'] # Index by key to fetch\n",
    "sue.giveRaise(.10) # Update in memory using class's method\n",
    "db['Sue Jones'] = sue # Assign to key to update in shelve\n",
    "db.close() # Close after making changes"
   ]
  },
  {
   "cell_type": "code",
   "execution_count": null,
   "metadata": {
    "collapsed": true
   },
   "outputs": [],
   "source": []
  }
 ],
 "metadata": {
  "kernelspec": {
   "display_name": "Python 3",
   "language": "python",
   "name": "python3"
  },
  "language_info": {
   "codemirror_mode": {
    "name": "ipython",
    "version": 3
   },
   "file_extension": ".py",
   "mimetype": "text/x-python",
   "name": "python",
   "nbconvert_exporter": "python",
   "pygments_lexer": "ipython3",
   "version": "3.6.1"
  }
 },
 "nbformat": 4,
 "nbformat_minor": 2
}
